{
  "cells": [
    {
      "cell_type": "markdown",
      "metadata": {
        "id": "31iLmdORRbTS"
      },
      "source": [
        "## Preprocessing"
      ]
    },
    {
      "cell_type": "code",
      "execution_count": 41,
      "metadata": {
        "colab": {
          "base_uri": "https://localhost:8080/",
          "height": 1000
        },
        "id": "Yo71IL6KRbTU",
        "outputId": "ea050e8f-b77f-4c8d-862d-9de1124a8dd1"
      },
      "outputs": [
        {
          "output_type": "stream",
          "name": "stdout",
          "text": [
            "Looking in indexes: https://pypi.org/simple, https://us-python.pkg.dev/colab-wheels/public/simple/\n",
            "Requirement already satisfied: autokeras in /usr/local/lib/python3.9/dist-packages (1.1.0)\n",
            "Requirement already satisfied: tensorflow>=2.8.0 in /usr/local/lib/python3.9/dist-packages (from autokeras) (2.12.0)\n",
            "Requirement already satisfied: pandas in /usr/local/lib/python3.9/dist-packages (from autokeras) (1.4.4)\n",
            "Requirement already satisfied: keras-tuner>=1.1.0 in /usr/local/lib/python3.9/dist-packages (from autokeras) (1.3.4)\n",
            "Requirement already satisfied: keras-nlp>=0.4.0 in /usr/local/lib/python3.9/dist-packages (from autokeras) (0.4.1)\n",
            "Requirement already satisfied: packaging in /usr/local/lib/python3.9/dist-packages (from autokeras) (23.0)\n",
            "Requirement already satisfied: numpy in /usr/local/lib/python3.9/dist-packages (from keras-nlp>=0.4.0->autokeras) (1.23.5)\n",
            "Requirement already satisfied: tensorflow-text in /usr/local/lib/python3.9/dist-packages (from keras-nlp>=0.4.0->autokeras) (2.12.0)\n",
            "Requirement already satisfied: absl-py in /usr/local/lib/python3.9/dist-packages (from keras-nlp>=0.4.0->autokeras) (1.4.0)\n",
            "Requirement already satisfied: requests in /usr/local/lib/python3.9/dist-packages (from keras-tuner>=1.1.0->autokeras) (2.27.1)\n",
            "Requirement already satisfied: kt-legacy in /usr/local/lib/python3.9/dist-packages (from keras-tuner>=1.1.0->autokeras) (1.0.4)\n",
            "Requirement already satisfied: protobuf<=3.20.3 in /usr/local/lib/python3.9/dist-packages (from keras-tuner>=1.1.0->autokeras) (3.20.3)\n",
            "Requirement already satisfied: tensorflow-estimator<2.13,>=2.12.0 in /usr/local/lib/python3.9/dist-packages (from tensorflow>=2.8.0->autokeras) (2.12.0)\n",
            "Requirement already satisfied: jax>=0.3.15 in /usr/local/lib/python3.9/dist-packages (from tensorflow>=2.8.0->autokeras) (0.3.25)\n",
            "Requirement already satisfied: opt-einsum>=2.3.2 in /usr/local/lib/python3.9/dist-packages (from tensorflow>=2.8.0->autokeras) (3.3.0)\n",
            "Requirement already satisfied: setuptools in /usr/local/lib/python3.9/dist-packages (from tensorflow>=2.8.0->autokeras) (67.6.1)\n",
            "Requirement already satisfied: tensorflow-io-gcs-filesystem>=0.23.1 in /usr/local/lib/python3.9/dist-packages (from tensorflow>=2.8.0->autokeras) (0.32.0)\n",
            "Requirement already satisfied: libclang>=13.0.0 in /usr/local/lib/python3.9/dist-packages (from tensorflow>=2.8.0->autokeras) (16.0.0)\n",
            "Requirement already satisfied: keras<2.13,>=2.12.0 in /usr/local/lib/python3.9/dist-packages (from tensorflow>=2.8.0->autokeras) (2.12.0)\n",
            "Requirement already satisfied: tensorboard<2.13,>=2.12 in /usr/local/lib/python3.9/dist-packages (from tensorflow>=2.8.0->autokeras) (2.12.0)\n",
            "Requirement already satisfied: gast<=0.4.0,>=0.2.1 in /usr/local/lib/python3.9/dist-packages (from tensorflow>=2.8.0->autokeras) (0.4.0)\n",
            "Requirement already satisfied: six>=1.12.0 in /usr/local/lib/python3.9/dist-packages (from tensorflow>=2.8.0->autokeras) (1.16.0)\n",
            "Requirement already satisfied: wrapt<1.15,>=1.11.0 in /usr/local/lib/python3.9/dist-packages (from tensorflow>=2.8.0->autokeras) (1.14.1)\n",
            "Requirement already satisfied: termcolor>=1.1.0 in /usr/local/lib/python3.9/dist-packages (from tensorflow>=2.8.0->autokeras) (2.2.0)\n",
            "Requirement already satisfied: astunparse>=1.6.0 in /usr/local/lib/python3.9/dist-packages (from tensorflow>=2.8.0->autokeras) (1.6.3)\n",
            "Requirement already satisfied: h5py>=2.9.0 in /usr/local/lib/python3.9/dist-packages (from tensorflow>=2.8.0->autokeras) (3.8.0)\n",
            "Requirement already satisfied: flatbuffers>=2.0 in /usr/local/lib/python3.9/dist-packages (from tensorflow>=2.8.0->autokeras) (23.3.3)\n",
            "Requirement already satisfied: typing-extensions>=3.6.6 in /usr/local/lib/python3.9/dist-packages (from tensorflow>=2.8.0->autokeras) (4.5.0)\n",
            "Requirement already satisfied: google-pasta>=0.1.1 in /usr/local/lib/python3.9/dist-packages (from tensorflow>=2.8.0->autokeras) (0.2.0)\n",
            "Requirement already satisfied: grpcio<2.0,>=1.24.3 in /usr/local/lib/python3.9/dist-packages (from tensorflow>=2.8.0->autokeras) (1.53.0)\n",
            "Requirement already satisfied: pytz>=2020.1 in /usr/local/lib/python3.9/dist-packages (from pandas->autokeras) (2022.7.1)\n",
            "Requirement already satisfied: python-dateutil>=2.8.1 in /usr/local/lib/python3.9/dist-packages (from pandas->autokeras) (2.8.2)\n",
            "Requirement already satisfied: wheel<1.0,>=0.23.0 in /usr/local/lib/python3.9/dist-packages (from astunparse>=1.6.0->tensorflow>=2.8.0->autokeras) (0.40.0)\n",
            "Requirement already satisfied: scipy>=1.5 in /usr/local/lib/python3.9/dist-packages (from jax>=0.3.15->tensorflow>=2.8.0->autokeras) (1.10.1)\n",
            "Requirement already satisfied: markdown>=2.6.8 in /usr/local/lib/python3.9/dist-packages (from tensorboard<2.13,>=2.12->tensorflow>=2.8.0->autokeras) (3.4.3)\n",
            "Requirement already satisfied: tensorboard-plugin-wit>=1.6.0 in /usr/local/lib/python3.9/dist-packages (from tensorboard<2.13,>=2.12->tensorflow>=2.8.0->autokeras) (1.8.1)\n",
            "Requirement already satisfied: google-auth-oauthlib<0.5,>=0.4.1 in /usr/local/lib/python3.9/dist-packages (from tensorboard<2.13,>=2.12->tensorflow>=2.8.0->autokeras) (0.4.6)\n",
            "Requirement already satisfied: werkzeug>=1.0.1 in /usr/local/lib/python3.9/dist-packages (from tensorboard<2.13,>=2.12->tensorflow>=2.8.0->autokeras) (2.2.3)\n",
            "Requirement already satisfied: google-auth<3,>=1.6.3 in /usr/local/lib/python3.9/dist-packages (from tensorboard<2.13,>=2.12->tensorflow>=2.8.0->autokeras) (2.17.0)\n",
            "Requirement already satisfied: tensorboard-data-server<0.8.0,>=0.7.0 in /usr/local/lib/python3.9/dist-packages (from tensorboard<2.13,>=2.12->tensorflow>=2.8.0->autokeras) (0.7.0)\n",
            "Requirement already satisfied: charset-normalizer~=2.0.0 in /usr/local/lib/python3.9/dist-packages (from requests->keras-tuner>=1.1.0->autokeras) (2.0.12)\n",
            "Requirement already satisfied: idna<4,>=2.5 in /usr/local/lib/python3.9/dist-packages (from requests->keras-tuner>=1.1.0->autokeras) (3.4)\n",
            "Requirement already satisfied: urllib3<1.27,>=1.21.1 in /usr/local/lib/python3.9/dist-packages (from requests->keras-tuner>=1.1.0->autokeras) (1.26.15)\n",
            "Requirement already satisfied: certifi>=2017.4.17 in /usr/local/lib/python3.9/dist-packages (from requests->keras-tuner>=1.1.0->autokeras) (2022.12.7)\n",
            "Requirement already satisfied: tensorflow-hub>=0.8.0 in /usr/local/lib/python3.9/dist-packages (from tensorflow-text->keras-nlp>=0.4.0->autokeras) (0.13.0)\n",
            "Requirement already satisfied: cachetools<6.0,>=2.0.0 in /usr/local/lib/python3.9/dist-packages (from google-auth<3,>=1.6.3->tensorboard<2.13,>=2.12->tensorflow>=2.8.0->autokeras) (5.3.0)\n",
            "Requirement already satisfied: rsa<5,>=3.1.4 in /usr/local/lib/python3.9/dist-packages (from google-auth<3,>=1.6.3->tensorboard<2.13,>=2.12->tensorflow>=2.8.0->autokeras) (4.9)\n",
            "Requirement already satisfied: pyasn1-modules>=0.2.1 in /usr/local/lib/python3.9/dist-packages (from google-auth<3,>=1.6.3->tensorboard<2.13,>=2.12->tensorflow>=2.8.0->autokeras) (0.2.8)\n",
            "Requirement already satisfied: requests-oauthlib>=0.7.0 in /usr/local/lib/python3.9/dist-packages (from google-auth-oauthlib<0.5,>=0.4.1->tensorboard<2.13,>=2.12->tensorflow>=2.8.0->autokeras) (1.3.1)\n",
            "Requirement already satisfied: importlib-metadata>=4.4 in /usr/local/lib/python3.9/dist-packages (from markdown>=2.6.8->tensorboard<2.13,>=2.12->tensorflow>=2.8.0->autokeras) (6.1.0)\n",
            "Requirement already satisfied: MarkupSafe>=2.1.1 in /usr/local/lib/python3.9/dist-packages (from werkzeug>=1.0.1->tensorboard<2.13,>=2.12->tensorflow>=2.8.0->autokeras) (2.1.2)\n",
            "Requirement already satisfied: zipp>=0.5 in /usr/local/lib/python3.9/dist-packages (from importlib-metadata>=4.4->markdown>=2.6.8->tensorboard<2.13,>=2.12->tensorflow>=2.8.0->autokeras) (3.15.0)\n",
            "Requirement already satisfied: pyasn1<0.5.0,>=0.4.6 in /usr/local/lib/python3.9/dist-packages (from pyasn1-modules>=0.2.1->google-auth<3,>=1.6.3->tensorboard<2.13,>=2.12->tensorflow>=2.8.0->autokeras) (0.4.8)\n",
            "Requirement already satisfied: oauthlib>=3.0.0 in /usr/local/lib/python3.9/dist-packages (from requests-oauthlib>=0.7.0->google-auth-oauthlib<0.5,>=0.4.1->tensorboard<2.13,>=2.12->tensorflow>=2.8.0->autokeras) (3.2.2)\n",
            "Looking in indexes: https://pypi.org/simple, https://us-python.pkg.dev/colab-wheels/public/simple/\n",
            "Requirement already satisfied: skfeature-chappers in /usr/local/lib/python3.9/dist-packages (1.1.0)\n",
            "Requirement already satisfied: scikit-learn in /usr/local/lib/python3.9/dist-packages (from skfeature-chappers) (1.2.2)\n",
            "Requirement already satisfied: pandas in /usr/local/lib/python3.9/dist-packages (from skfeature-chappers) (1.4.4)\n",
            "Requirement already satisfied: numpy in /usr/local/lib/python3.9/dist-packages (from skfeature-chappers) (1.23.5)\n",
            "Requirement already satisfied: python-dateutil>=2.8.1 in /usr/local/lib/python3.9/dist-packages (from pandas->skfeature-chappers) (2.8.2)\n",
            "Requirement already satisfied: pytz>=2020.1 in /usr/local/lib/python3.9/dist-packages (from pandas->skfeature-chappers) (2022.7.1)\n",
            "Requirement already satisfied: scipy>=1.3.2 in /usr/local/lib/python3.9/dist-packages (from scikit-learn->skfeature-chappers) (1.10.1)\n",
            "Requirement already satisfied: joblib>=1.1.1 in /usr/local/lib/python3.9/dist-packages (from scikit-learn->skfeature-chappers) (1.1.1)\n",
            "Requirement already satisfied: threadpoolctl>=2.0.0 in /usr/local/lib/python3.9/dist-packages (from scikit-learn->skfeature-chappers) (3.1.0)\n",
            "Requirement already satisfied: six>=1.5 in /usr/local/lib/python3.9/dist-packages (from python-dateutil>=2.8.1->pandas->skfeature-chappers) (1.16.0)\n"
          ]
        },
        {
          "output_type": "execute_result",
          "data": {
            "text/plain": [
              "        EIN                                      NAME APPLICATION_TYPE  \\\n",
              "0  10520599              BLUE KNIGHTS MOTORCYCLE CLUB              T10   \n",
              "1  10531628    AMERICAN CHESAPEAKE CLUB CHARITABLE TR               T3   \n",
              "2  10547893        ST CLOUD PROFESSIONAL FIREFIGHTERS               T5   \n",
              "3  10553066            SOUTHSIDE ATHLETIC ASSOCIATION               T3   \n",
              "4  10556103  GENETIC RESEARCH INSTITUTE OF THE DESERT               T3   \n",
              "\n",
              "        AFFILIATION CLASSIFICATION      USE_CASE  ORGANIZATION  STATUS  \\\n",
              "0       Independent          C1000    ProductDev   Association       1   \n",
              "1       Independent          C2000  Preservation  Co-operative       1   \n",
              "2  CompanySponsored          C3000    ProductDev   Association       1   \n",
              "3  CompanySponsored          C2000  Preservation         Trust       1   \n",
              "4       Independent          C1000     Heathcare         Trust       1   \n",
              "\n",
              "      INCOME_AMT SPECIAL_CONSIDERATIONS  ASK_AMT  IS_SUCCESSFUL  \n",
              "0              0                      N     5000              1  \n",
              "1         1-9999                      N   108590              1  \n",
              "2              0                      N     5000              0  \n",
              "3    10000-24999                      N     6692              1  \n",
              "4  100000-499999                      N   142590              1  "
            ],
            "text/html": [
              "\n",
              "  <div id=\"df-bf94cd2e-d8b2-4901-9035-30dbe22faece\">\n",
              "    <div class=\"colab-df-container\">\n",
              "      <div>\n",
              "<style scoped>\n",
              "    .dataframe tbody tr th:only-of-type {\n",
              "        vertical-align: middle;\n",
              "    }\n",
              "\n",
              "    .dataframe tbody tr th {\n",
              "        vertical-align: top;\n",
              "    }\n",
              "\n",
              "    .dataframe thead th {\n",
              "        text-align: right;\n",
              "    }\n",
              "</style>\n",
              "<table border=\"1\" class=\"dataframe\">\n",
              "  <thead>\n",
              "    <tr style=\"text-align: right;\">\n",
              "      <th></th>\n",
              "      <th>EIN</th>\n",
              "      <th>NAME</th>\n",
              "      <th>APPLICATION_TYPE</th>\n",
              "      <th>AFFILIATION</th>\n",
              "      <th>CLASSIFICATION</th>\n",
              "      <th>USE_CASE</th>\n",
              "      <th>ORGANIZATION</th>\n",
              "      <th>STATUS</th>\n",
              "      <th>INCOME_AMT</th>\n",
              "      <th>SPECIAL_CONSIDERATIONS</th>\n",
              "      <th>ASK_AMT</th>\n",
              "      <th>IS_SUCCESSFUL</th>\n",
              "    </tr>\n",
              "  </thead>\n",
              "  <tbody>\n",
              "    <tr>\n",
              "      <th>0</th>\n",
              "      <td>10520599</td>\n",
              "      <td>BLUE KNIGHTS MOTORCYCLE CLUB</td>\n",
              "      <td>T10</td>\n",
              "      <td>Independent</td>\n",
              "      <td>C1000</td>\n",
              "      <td>ProductDev</td>\n",
              "      <td>Association</td>\n",
              "      <td>1</td>\n",
              "      <td>0</td>\n",
              "      <td>N</td>\n",
              "      <td>5000</td>\n",
              "      <td>1</td>\n",
              "    </tr>\n",
              "    <tr>\n",
              "      <th>1</th>\n",
              "      <td>10531628</td>\n",
              "      <td>AMERICAN CHESAPEAKE CLUB CHARITABLE TR</td>\n",
              "      <td>T3</td>\n",
              "      <td>Independent</td>\n",
              "      <td>C2000</td>\n",
              "      <td>Preservation</td>\n",
              "      <td>Co-operative</td>\n",
              "      <td>1</td>\n",
              "      <td>1-9999</td>\n",
              "      <td>N</td>\n",
              "      <td>108590</td>\n",
              "      <td>1</td>\n",
              "    </tr>\n",
              "    <tr>\n",
              "      <th>2</th>\n",
              "      <td>10547893</td>\n",
              "      <td>ST CLOUD PROFESSIONAL FIREFIGHTERS</td>\n",
              "      <td>T5</td>\n",
              "      <td>CompanySponsored</td>\n",
              "      <td>C3000</td>\n",
              "      <td>ProductDev</td>\n",
              "      <td>Association</td>\n",
              "      <td>1</td>\n",
              "      <td>0</td>\n",
              "      <td>N</td>\n",
              "      <td>5000</td>\n",
              "      <td>0</td>\n",
              "    </tr>\n",
              "    <tr>\n",
              "      <th>3</th>\n",
              "      <td>10553066</td>\n",
              "      <td>SOUTHSIDE ATHLETIC ASSOCIATION</td>\n",
              "      <td>T3</td>\n",
              "      <td>CompanySponsored</td>\n",
              "      <td>C2000</td>\n",
              "      <td>Preservation</td>\n",
              "      <td>Trust</td>\n",
              "      <td>1</td>\n",
              "      <td>10000-24999</td>\n",
              "      <td>N</td>\n",
              "      <td>6692</td>\n",
              "      <td>1</td>\n",
              "    </tr>\n",
              "    <tr>\n",
              "      <th>4</th>\n",
              "      <td>10556103</td>\n",
              "      <td>GENETIC RESEARCH INSTITUTE OF THE DESERT</td>\n",
              "      <td>T3</td>\n",
              "      <td>Independent</td>\n",
              "      <td>C1000</td>\n",
              "      <td>Heathcare</td>\n",
              "      <td>Trust</td>\n",
              "      <td>1</td>\n",
              "      <td>100000-499999</td>\n",
              "      <td>N</td>\n",
              "      <td>142590</td>\n",
              "      <td>1</td>\n",
              "    </tr>\n",
              "  </tbody>\n",
              "</table>\n",
              "</div>\n",
              "      <button class=\"colab-df-convert\" onclick=\"convertToInteractive('df-bf94cd2e-d8b2-4901-9035-30dbe22faece')\"\n",
              "              title=\"Convert this dataframe to an interactive table.\"\n",
              "              style=\"display:none;\">\n",
              "        \n",
              "  <svg xmlns=\"http://www.w3.org/2000/svg\" height=\"24px\"viewBox=\"0 0 24 24\"\n",
              "       width=\"24px\">\n",
              "    <path d=\"M0 0h24v24H0V0z\" fill=\"none\"/>\n",
              "    <path d=\"M18.56 5.44l.94 2.06.94-2.06 2.06-.94-2.06-.94-.94-2.06-.94 2.06-2.06.94zm-11 1L8.5 8.5l.94-2.06 2.06-.94-2.06-.94L8.5 2.5l-.94 2.06-2.06.94zm10 10l.94 2.06.94-2.06 2.06-.94-2.06-.94-.94-2.06-.94 2.06-2.06.94z\"/><path d=\"M17.41 7.96l-1.37-1.37c-.4-.4-.92-.59-1.43-.59-.52 0-1.04.2-1.43.59L10.3 9.45l-7.72 7.72c-.78.78-.78 2.05 0 2.83L4 21.41c.39.39.9.59 1.41.59.51 0 1.02-.2 1.41-.59l7.78-7.78 2.81-2.81c.8-.78.8-2.07 0-2.86zM5.41 20L4 18.59l7.72-7.72 1.47 1.35L5.41 20z\"/>\n",
              "  </svg>\n",
              "      </button>\n",
              "      \n",
              "  <style>\n",
              "    .colab-df-container {\n",
              "      display:flex;\n",
              "      flex-wrap:wrap;\n",
              "      gap: 12px;\n",
              "    }\n",
              "\n",
              "    .colab-df-convert {\n",
              "      background-color: #E8F0FE;\n",
              "      border: none;\n",
              "      border-radius: 50%;\n",
              "      cursor: pointer;\n",
              "      display: none;\n",
              "      fill: #1967D2;\n",
              "      height: 32px;\n",
              "      padding: 0 0 0 0;\n",
              "      width: 32px;\n",
              "    }\n",
              "\n",
              "    .colab-df-convert:hover {\n",
              "      background-color: #E2EBFA;\n",
              "      box-shadow: 0px 1px 2px rgba(60, 64, 67, 0.3), 0px 1px 3px 1px rgba(60, 64, 67, 0.15);\n",
              "      fill: #174EA6;\n",
              "    }\n",
              "\n",
              "    [theme=dark] .colab-df-convert {\n",
              "      background-color: #3B4455;\n",
              "      fill: #D2E3FC;\n",
              "    }\n",
              "\n",
              "    [theme=dark] .colab-df-convert:hover {\n",
              "      background-color: #434B5C;\n",
              "      box-shadow: 0px 1px 3px 1px rgba(0, 0, 0, 0.15);\n",
              "      filter: drop-shadow(0px 1px 2px rgba(0, 0, 0, 0.3));\n",
              "      fill: #FFFFFF;\n",
              "    }\n",
              "  </style>\n",
              "\n",
              "      <script>\n",
              "        const buttonEl =\n",
              "          document.querySelector('#df-bf94cd2e-d8b2-4901-9035-30dbe22faece button.colab-df-convert');\n",
              "        buttonEl.style.display =\n",
              "          google.colab.kernel.accessAllowed ? 'block' : 'none';\n",
              "\n",
              "        async function convertToInteractive(key) {\n",
              "          const element = document.querySelector('#df-bf94cd2e-d8b2-4901-9035-30dbe22faece');\n",
              "          const dataTable =\n",
              "            await google.colab.kernel.invokeFunction('convertToInteractive',\n",
              "                                                     [key], {});\n",
              "          if (!dataTable) return;\n",
              "\n",
              "          const docLinkHtml = 'Like what you see? Visit the ' +\n",
              "            '<a target=\"_blank\" href=https://colab.research.google.com/notebooks/data_table.ipynb>data table notebook</a>'\n",
              "            + ' to learn more about interactive tables.';\n",
              "          element.innerHTML = '';\n",
              "          dataTable['output_type'] = 'display_data';\n",
              "          await google.colab.output.renderOutput(dataTable, element);\n",
              "          const docLink = document.createElement('div');\n",
              "          docLink.innerHTML = docLinkHtml;\n",
              "          element.appendChild(docLink);\n",
              "        }\n",
              "      </script>\n",
              "    </div>\n",
              "  </div>\n",
              "  "
            ]
          },
          "metadata": {},
          "execution_count": 41
        }
      ],
      "source": [
        "!pip install autokeras\n",
        "!pip install skfeature-chappers\n",
        "\n",
        "# Import our dependencies\n",
        "from sklearn.model_selection import train_test_split\n",
        "from sklearn.preprocessing import StandardScaler\n",
        "from sklearn.metrics import accuracy_score\n",
        "import pandas as pd\n",
        "import tensorflow as tf\n",
        "import numpy as np\n",
        "import matplotlib.pyplot as plt\n",
        "%matplotlib inline\n",
        "#  Import and read the charity_data.csv.\n",
        "import pandas as pd \n",
        "application_df = pd.read_csv(\"https://static.bc-edx.com/data/dl-1-2/m21/lms/starter/charity_data.csv\")\n",
        "application_df.head()"
      ]
    },
    {
      "cell_type": "code",
      "execution_count": 42,
      "metadata": {
        "colab": {
          "base_uri": "https://localhost:8080/",
          "height": 206
        },
        "id": "IQNmzNlgRbTU",
        "outputId": "25e9734e-8e7a-408c-c9e8-4def3b485e47"
      },
      "outputs": [
        {
          "output_type": "execute_result",
          "data": {
            "text/plain": [
              "  APPLICATION_TYPE       AFFILIATION CLASSIFICATION      USE_CASE  \\\n",
              "0              T10       Independent          C1000    ProductDev   \n",
              "1               T3       Independent          C2000  Preservation   \n",
              "2               T5  CompanySponsored          C3000    ProductDev   \n",
              "3               T3  CompanySponsored          C2000  Preservation   \n",
              "4               T3       Independent          C1000     Heathcare   \n",
              "\n",
              "   ORGANIZATION  STATUS     INCOME_AMT SPECIAL_CONSIDERATIONS  ASK_AMT  \\\n",
              "0   Association       1              0                      N     5000   \n",
              "1  Co-operative       1         1-9999                      N   108590   \n",
              "2   Association       1              0                      N     5000   \n",
              "3         Trust       1    10000-24999                      N     6692   \n",
              "4         Trust       1  100000-499999                      N   142590   \n",
              "\n",
              "   IS_SUCCESSFUL  \n",
              "0              1  \n",
              "1              1  \n",
              "2              0  \n",
              "3              1  \n",
              "4              1  "
            ],
            "text/html": [
              "\n",
              "  <div id=\"df-b4871754-0c49-48d3-8c9f-0061ad83804e\">\n",
              "    <div class=\"colab-df-container\">\n",
              "      <div>\n",
              "<style scoped>\n",
              "    .dataframe tbody tr th:only-of-type {\n",
              "        vertical-align: middle;\n",
              "    }\n",
              "\n",
              "    .dataframe tbody tr th {\n",
              "        vertical-align: top;\n",
              "    }\n",
              "\n",
              "    .dataframe thead th {\n",
              "        text-align: right;\n",
              "    }\n",
              "</style>\n",
              "<table border=\"1\" class=\"dataframe\">\n",
              "  <thead>\n",
              "    <tr style=\"text-align: right;\">\n",
              "      <th></th>\n",
              "      <th>APPLICATION_TYPE</th>\n",
              "      <th>AFFILIATION</th>\n",
              "      <th>CLASSIFICATION</th>\n",
              "      <th>USE_CASE</th>\n",
              "      <th>ORGANIZATION</th>\n",
              "      <th>STATUS</th>\n",
              "      <th>INCOME_AMT</th>\n",
              "      <th>SPECIAL_CONSIDERATIONS</th>\n",
              "      <th>ASK_AMT</th>\n",
              "      <th>IS_SUCCESSFUL</th>\n",
              "    </tr>\n",
              "  </thead>\n",
              "  <tbody>\n",
              "    <tr>\n",
              "      <th>0</th>\n",
              "      <td>T10</td>\n",
              "      <td>Independent</td>\n",
              "      <td>C1000</td>\n",
              "      <td>ProductDev</td>\n",
              "      <td>Association</td>\n",
              "      <td>1</td>\n",
              "      <td>0</td>\n",
              "      <td>N</td>\n",
              "      <td>5000</td>\n",
              "      <td>1</td>\n",
              "    </tr>\n",
              "    <tr>\n",
              "      <th>1</th>\n",
              "      <td>T3</td>\n",
              "      <td>Independent</td>\n",
              "      <td>C2000</td>\n",
              "      <td>Preservation</td>\n",
              "      <td>Co-operative</td>\n",
              "      <td>1</td>\n",
              "      <td>1-9999</td>\n",
              "      <td>N</td>\n",
              "      <td>108590</td>\n",
              "      <td>1</td>\n",
              "    </tr>\n",
              "    <tr>\n",
              "      <th>2</th>\n",
              "      <td>T5</td>\n",
              "      <td>CompanySponsored</td>\n",
              "      <td>C3000</td>\n",
              "      <td>ProductDev</td>\n",
              "      <td>Association</td>\n",
              "      <td>1</td>\n",
              "      <td>0</td>\n",
              "      <td>N</td>\n",
              "      <td>5000</td>\n",
              "      <td>0</td>\n",
              "    </tr>\n",
              "    <tr>\n",
              "      <th>3</th>\n",
              "      <td>T3</td>\n",
              "      <td>CompanySponsored</td>\n",
              "      <td>C2000</td>\n",
              "      <td>Preservation</td>\n",
              "      <td>Trust</td>\n",
              "      <td>1</td>\n",
              "      <td>10000-24999</td>\n",
              "      <td>N</td>\n",
              "      <td>6692</td>\n",
              "      <td>1</td>\n",
              "    </tr>\n",
              "    <tr>\n",
              "      <th>4</th>\n",
              "      <td>T3</td>\n",
              "      <td>Independent</td>\n",
              "      <td>C1000</td>\n",
              "      <td>Heathcare</td>\n",
              "      <td>Trust</td>\n",
              "      <td>1</td>\n",
              "      <td>100000-499999</td>\n",
              "      <td>N</td>\n",
              "      <td>142590</td>\n",
              "      <td>1</td>\n",
              "    </tr>\n",
              "  </tbody>\n",
              "</table>\n",
              "</div>\n",
              "      <button class=\"colab-df-convert\" onclick=\"convertToInteractive('df-b4871754-0c49-48d3-8c9f-0061ad83804e')\"\n",
              "              title=\"Convert this dataframe to an interactive table.\"\n",
              "              style=\"display:none;\">\n",
              "        \n",
              "  <svg xmlns=\"http://www.w3.org/2000/svg\" height=\"24px\"viewBox=\"0 0 24 24\"\n",
              "       width=\"24px\">\n",
              "    <path d=\"M0 0h24v24H0V0z\" fill=\"none\"/>\n",
              "    <path d=\"M18.56 5.44l.94 2.06.94-2.06 2.06-.94-2.06-.94-.94-2.06-.94 2.06-2.06.94zm-11 1L8.5 8.5l.94-2.06 2.06-.94-2.06-.94L8.5 2.5l-.94 2.06-2.06.94zm10 10l.94 2.06.94-2.06 2.06-.94-2.06-.94-.94-2.06-.94 2.06-2.06.94z\"/><path d=\"M17.41 7.96l-1.37-1.37c-.4-.4-.92-.59-1.43-.59-.52 0-1.04.2-1.43.59L10.3 9.45l-7.72 7.72c-.78.78-.78 2.05 0 2.83L4 21.41c.39.39.9.59 1.41.59.51 0 1.02-.2 1.41-.59l7.78-7.78 2.81-2.81c.8-.78.8-2.07 0-2.86zM5.41 20L4 18.59l7.72-7.72 1.47 1.35L5.41 20z\"/>\n",
              "  </svg>\n",
              "      </button>\n",
              "      \n",
              "  <style>\n",
              "    .colab-df-container {\n",
              "      display:flex;\n",
              "      flex-wrap:wrap;\n",
              "      gap: 12px;\n",
              "    }\n",
              "\n",
              "    .colab-df-convert {\n",
              "      background-color: #E8F0FE;\n",
              "      border: none;\n",
              "      border-radius: 50%;\n",
              "      cursor: pointer;\n",
              "      display: none;\n",
              "      fill: #1967D2;\n",
              "      height: 32px;\n",
              "      padding: 0 0 0 0;\n",
              "      width: 32px;\n",
              "    }\n",
              "\n",
              "    .colab-df-convert:hover {\n",
              "      background-color: #E2EBFA;\n",
              "      box-shadow: 0px 1px 2px rgba(60, 64, 67, 0.3), 0px 1px 3px 1px rgba(60, 64, 67, 0.15);\n",
              "      fill: #174EA6;\n",
              "    }\n",
              "\n",
              "    [theme=dark] .colab-df-convert {\n",
              "      background-color: #3B4455;\n",
              "      fill: #D2E3FC;\n",
              "    }\n",
              "\n",
              "    [theme=dark] .colab-df-convert:hover {\n",
              "      background-color: #434B5C;\n",
              "      box-shadow: 0px 1px 3px 1px rgba(0, 0, 0, 0.15);\n",
              "      filter: drop-shadow(0px 1px 2px rgba(0, 0, 0, 0.3));\n",
              "      fill: #FFFFFF;\n",
              "    }\n",
              "  </style>\n",
              "\n",
              "      <script>\n",
              "        const buttonEl =\n",
              "          document.querySelector('#df-b4871754-0c49-48d3-8c9f-0061ad83804e button.colab-df-convert');\n",
              "        buttonEl.style.display =\n",
              "          google.colab.kernel.accessAllowed ? 'block' : 'none';\n",
              "\n",
              "        async function convertToInteractive(key) {\n",
              "          const element = document.querySelector('#df-b4871754-0c49-48d3-8c9f-0061ad83804e');\n",
              "          const dataTable =\n",
              "            await google.colab.kernel.invokeFunction('convertToInteractive',\n",
              "                                                     [key], {});\n",
              "          if (!dataTable) return;\n",
              "\n",
              "          const docLinkHtml = 'Like what you see? Visit the ' +\n",
              "            '<a target=\"_blank\" href=https://colab.research.google.com/notebooks/data_table.ipynb>data table notebook</a>'\n",
              "            + ' to learn more about interactive tables.';\n",
              "          element.innerHTML = '';\n",
              "          dataTable['output_type'] = 'display_data';\n",
              "          await google.colab.output.renderOutput(dataTable, element);\n",
              "          const docLink = document.createElement('div');\n",
              "          docLink.innerHTML = docLinkHtml;\n",
              "          element.appendChild(docLink);\n",
              "        }\n",
              "      </script>\n",
              "    </div>\n",
              "  </div>\n",
              "  "
            ]
          },
          "metadata": {},
          "execution_count": 42
        }
      ],
      "source": [
        "# Drop the non-beneficial ID columns, 'EIN' and 'NAME'.\n",
        "application_df= application_df.drop([\"EIN\", \"NAME\"], axis=1)\n",
        "application_df.head()"
      ]
    },
    {
      "cell_type": "code",
      "execution_count": 43,
      "metadata": {
        "colab": {
          "base_uri": "https://localhost:8080/"
        },
        "id": "uiTg2FHYRbTV",
        "outputId": "13ebd75b-a05b-4caf-9229-d38bb7570881"
      },
      "outputs": [
        {
          "output_type": "execute_result",
          "data": {
            "text/plain": [
              "APPLICATION_TYPE            17\n",
              "AFFILIATION                  6\n",
              "CLASSIFICATION              71\n",
              "USE_CASE                     5\n",
              "ORGANIZATION                 4\n",
              "STATUS                       2\n",
              "INCOME_AMT                   9\n",
              "SPECIAL_CONSIDERATIONS       2\n",
              "ASK_AMT                   8747\n",
              "IS_SUCCESSFUL                2\n",
              "dtype: int64"
            ]
          },
          "metadata": {},
          "execution_count": 43
        }
      ],
      "source": [
        "# Determine the number of unique values in each column.\n",
        "application_df.nunique()"
      ]
    },
    {
      "cell_type": "code",
      "execution_count": 44,
      "metadata": {
        "colab": {
          "base_uri": "https://localhost:8080/"
        },
        "id": "WZBIMlvORbTV",
        "outputId": "2ad591e8-016a-4610-cc46-c0ebd2885de5"
      },
      "outputs": [
        {
          "output_type": "execute_result",
          "data": {
            "text/plain": [
              "T3     27037\n",
              "T4      1542\n",
              "T6      1216\n",
              "T5      1173\n",
              "T19     1065\n",
              "T8       737\n",
              "T7       725\n",
              "T10      528\n",
              "T9       156\n",
              "T13       66\n",
              "T12       27\n",
              "T2        16\n",
              "T25        3\n",
              "T14        3\n",
              "T29        2\n",
              "T15        2\n",
              "T17        1\n",
              "Name: APPLICATION_TYPE, dtype: int64"
            ]
          },
          "metadata": {},
          "execution_count": 44
        }
      ],
      "source": [
        "# Look at APPLICATION_TYPE value counts for binning\n",
        "application_counts = application_df.APPLICATION_TYPE.value_counts()\n",
        "application_counts"
      ]
    },
    {
      "cell_type": "code",
      "execution_count": 45,
      "metadata": {
        "colab": {
          "base_uri": "https://localhost:8080/"
        },
        "id": "m5rZ81jPRbTV",
        "outputId": "f2a3616e-0992-43e5-f916-ae092f3f6e26"
      },
      "outputs": [
        {
          "output_type": "execute_result",
          "data": {
            "text/plain": [
              "T3       27037\n",
              "T4        1542\n",
              "T6        1216\n",
              "T5        1173\n",
              "T19       1065\n",
              "T8         737\n",
              "T7         725\n",
              "T10        528\n",
              "Other      276\n",
              "Name: APPLICATION_TYPE, dtype: int64"
            ]
          },
          "metadata": {},
          "execution_count": 45
        }
      ],
      "source": [
        "# Choose a cutoff value and create a list of application types to be replaced\n",
        "# use the variable name `application_types_to_replace`\n",
        "cutoff = 500\n",
        "application_types_to_replace = application_counts[application_counts < cutoff].index.tolist()\n",
        "\n",
        "# Replace in dataframe\n",
        "for app in application_types_to_replace:\n",
        "    application_df['APPLICATION_TYPE'] = application_df['APPLICATION_TYPE'].replace(app,\"Other\")\n",
        "\n",
        "# Check to make sure binning was successful\n",
        "application_df['APPLICATION_TYPE'].value_counts()"
      ]
    },
    {
      "cell_type": "code",
      "execution_count": 46,
      "metadata": {
        "colab": {
          "base_uri": "https://localhost:8080/"
        },
        "id": "dFyDVVsLRbTV",
        "outputId": "ee559914-2bbf-4c7a-bcd4-b677b3736d83"
      },
      "outputs": [
        {
          "output_type": "execute_result",
          "data": {
            "text/plain": [
              "C1000    17326\n",
              "C2000     6074\n",
              "C1200     4837\n",
              "C3000     1918\n",
              "C2100     1883\n",
              "         ...  \n",
              "C4120        1\n",
              "C8210        1\n",
              "C2561        1\n",
              "C4500        1\n",
              "C2150        1\n",
              "Name: CLASSIFICATION, Length: 71, dtype: int64"
            ]
          },
          "metadata": {},
          "execution_count": 46
        }
      ],
      "source": [
        "# Look at CLASSIFICATION value counts for binning\n",
        "classification_counts = application_df.CLASSIFICATION.value_counts()\n",
        "classification_counts"
      ]
    },
    {
      "cell_type": "code",
      "execution_count": 47,
      "metadata": {
        "colab": {
          "base_uri": "https://localhost:8080/"
        },
        "id": "F_Df0lreRbTV",
        "outputId": "91000d45-d82e-4ade-99c4-32eb147515fe"
      },
      "outputs": [
        {
          "output_type": "execute_result",
          "data": {
            "text/plain": [
              "C1000    17326\n",
              "C2000     6074\n",
              "C1200     4837\n",
              "C3000     1918\n",
              "C2100     1883\n",
              "C7000      777\n",
              "C1700      287\n",
              "C4000      194\n",
              "C5000      116\n",
              "C1270      114\n",
              "C2700      104\n",
              "C2800       95\n",
              "C7100       75\n",
              "C1300       58\n",
              "C1280       50\n",
              "C1230       36\n",
              "C1400       34\n",
              "C7200       32\n",
              "C2300       32\n",
              "C1240       30\n",
              "C8000       20\n",
              "C7120       18\n",
              "C1500       16\n",
              "C1800       15\n",
              "C6000       15\n",
              "C1250       14\n",
              "C8200       11\n",
              "C1238       10\n",
              "C1278       10\n",
              "C1235        9\n",
              "C1237        9\n",
              "C7210        7\n",
              "C2400        6\n",
              "C1720        6\n",
              "C4100        6\n",
              "C1257        5\n",
              "C1600        5\n",
              "C1260        3\n",
              "C2710        3\n",
              "C0           3\n",
              "C3200        2\n",
              "C1234        2\n",
              "C1246        2\n",
              "C1267        2\n",
              "C1256        2\n",
              "Name: CLASSIFICATION, dtype: int64"
            ]
          },
          "metadata": {},
          "execution_count": 47
        }
      ],
      "source": [
        "# You may find it helpful to look at CLASSIFICATION value counts >1\n",
        "useful_classification_counts= classification_counts[classification_counts>1]\n",
        "useful_classification_counts"
      ]
    },
    {
      "cell_type": "code",
      "execution_count": 48,
      "metadata": {
        "colab": {
          "base_uri": "https://localhost:8080/"
        },
        "id": "icE0mXIjRbTV",
        "outputId": "f1336f16-f0a4-487a-925b-b5f28faa11e0"
      },
      "outputs": [
        {
          "output_type": "execute_result",
          "data": {
            "text/plain": [
              "C1000    17326\n",
              "C2000     6074\n",
              "C1200     4837\n",
              "Other     2261\n",
              "C3000     1918\n",
              "C2100     1883\n",
              "Name: CLASSIFICATION, dtype: int64"
            ]
          },
          "metadata": {},
          "execution_count": 48
        }
      ],
      "source": [
        "# Choose a cutoff value and create a list of classifications to be replaced\n",
        "# use the variable name `classifications_to_replace`\n",
        "cutoff = 1000\n",
        "classifications_to_replace = classification_counts[classification_counts < cutoff].index.tolist()\n",
        "\n",
        "# Replace in dataframe\n",
        "for cls in classifications_to_replace:\n",
        "    application_df['CLASSIFICATION'] = application_df['CLASSIFICATION'].replace(cls,\"Other\")\n",
        "    \n",
        "# Check to make sure binning was successful\n",
        "application_df['CLASSIFICATION'].value_counts()"
      ]
    },
    {
      "cell_type": "code",
      "execution_count": 49,
      "metadata": {
        "colab": {
          "base_uri": "https://localhost:8080/",
          "height": 317
        },
        "id": "RcQ3t8teRbTV",
        "outputId": "625d336c-5c5f-428f-fbd9-63d14823b04a"
      },
      "outputs": [
        {
          "output_type": "execute_result",
          "data": {
            "text/plain": [
              "   STATUS  ASK_AMT  IS_SUCCESSFUL  APPLICATION_TYPE_Other  \\\n",
              "0       1     5000              1                       0   \n",
              "1       1   108590              1                       0   \n",
              "2       1     5000              0                       0   \n",
              "3       1     6692              1                       0   \n",
              "4       1   142590              1                       0   \n",
              "\n",
              "   APPLICATION_TYPE_T10  APPLICATION_TYPE_T19  APPLICATION_TYPE_T3  \\\n",
              "0                     1                     0                    0   \n",
              "1                     0                     0                    1   \n",
              "2                     0                     0                    0   \n",
              "3                     0                     0                    1   \n",
              "4                     0                     0                    1   \n",
              "\n",
              "   APPLICATION_TYPE_T4  APPLICATION_TYPE_T5  APPLICATION_TYPE_T6  ...  \\\n",
              "0                    0                    0                    0  ...   \n",
              "1                    0                    0                    0  ...   \n",
              "2                    0                    1                    0  ...   \n",
              "3                    0                    0                    0  ...   \n",
              "4                    0                    0                    0  ...   \n",
              "\n",
              "   INCOME_AMT_1-9999  INCOME_AMT_10000-24999  INCOME_AMT_100000-499999  \\\n",
              "0                  0                       0                         0   \n",
              "1                  1                       0                         0   \n",
              "2                  0                       0                         0   \n",
              "3                  0                       1                         0   \n",
              "4                  0                       0                         1   \n",
              "\n",
              "   INCOME_AMT_10M-50M  INCOME_AMT_1M-5M  INCOME_AMT_25000-99999  \\\n",
              "0                   0                 0                       0   \n",
              "1                   0                 0                       0   \n",
              "2                   0                 0                       0   \n",
              "3                   0                 0                       0   \n",
              "4                   0                 0                       0   \n",
              "\n",
              "   INCOME_AMT_50M+  INCOME_AMT_5M-10M  SPECIAL_CONSIDERATIONS_N  \\\n",
              "0                0                  0                         1   \n",
              "1                0                  0                         1   \n",
              "2                0                  0                         1   \n",
              "3                0                  0                         1   \n",
              "4                0                  0                         1   \n",
              "\n",
              "   SPECIAL_CONSIDERATIONS_Y  \n",
              "0                         0  \n",
              "1                         0  \n",
              "2                         0  \n",
              "3                         0  \n",
              "4                         0  \n",
              "\n",
              "[5 rows x 44 columns]"
            ],
            "text/html": [
              "\n",
              "  <div id=\"df-a6bf7bca-6795-4ada-b24a-70ed03e53c2f\">\n",
              "    <div class=\"colab-df-container\">\n",
              "      <div>\n",
              "<style scoped>\n",
              "    .dataframe tbody tr th:only-of-type {\n",
              "        vertical-align: middle;\n",
              "    }\n",
              "\n",
              "    .dataframe tbody tr th {\n",
              "        vertical-align: top;\n",
              "    }\n",
              "\n",
              "    .dataframe thead th {\n",
              "        text-align: right;\n",
              "    }\n",
              "</style>\n",
              "<table border=\"1\" class=\"dataframe\">\n",
              "  <thead>\n",
              "    <tr style=\"text-align: right;\">\n",
              "      <th></th>\n",
              "      <th>STATUS</th>\n",
              "      <th>ASK_AMT</th>\n",
              "      <th>IS_SUCCESSFUL</th>\n",
              "      <th>APPLICATION_TYPE_Other</th>\n",
              "      <th>APPLICATION_TYPE_T10</th>\n",
              "      <th>APPLICATION_TYPE_T19</th>\n",
              "      <th>APPLICATION_TYPE_T3</th>\n",
              "      <th>APPLICATION_TYPE_T4</th>\n",
              "      <th>APPLICATION_TYPE_T5</th>\n",
              "      <th>APPLICATION_TYPE_T6</th>\n",
              "      <th>...</th>\n",
              "      <th>INCOME_AMT_1-9999</th>\n",
              "      <th>INCOME_AMT_10000-24999</th>\n",
              "      <th>INCOME_AMT_100000-499999</th>\n",
              "      <th>INCOME_AMT_10M-50M</th>\n",
              "      <th>INCOME_AMT_1M-5M</th>\n",
              "      <th>INCOME_AMT_25000-99999</th>\n",
              "      <th>INCOME_AMT_50M+</th>\n",
              "      <th>INCOME_AMT_5M-10M</th>\n",
              "      <th>SPECIAL_CONSIDERATIONS_N</th>\n",
              "      <th>SPECIAL_CONSIDERATIONS_Y</th>\n",
              "    </tr>\n",
              "  </thead>\n",
              "  <tbody>\n",
              "    <tr>\n",
              "      <th>0</th>\n",
              "      <td>1</td>\n",
              "      <td>5000</td>\n",
              "      <td>1</td>\n",
              "      <td>0</td>\n",
              "      <td>1</td>\n",
              "      <td>0</td>\n",
              "      <td>0</td>\n",
              "      <td>0</td>\n",
              "      <td>0</td>\n",
              "      <td>0</td>\n",
              "      <td>...</td>\n",
              "      <td>0</td>\n",
              "      <td>0</td>\n",
              "      <td>0</td>\n",
              "      <td>0</td>\n",
              "      <td>0</td>\n",
              "      <td>0</td>\n",
              "      <td>0</td>\n",
              "      <td>0</td>\n",
              "      <td>1</td>\n",
              "      <td>0</td>\n",
              "    </tr>\n",
              "    <tr>\n",
              "      <th>1</th>\n",
              "      <td>1</td>\n",
              "      <td>108590</td>\n",
              "      <td>1</td>\n",
              "      <td>0</td>\n",
              "      <td>0</td>\n",
              "      <td>0</td>\n",
              "      <td>1</td>\n",
              "      <td>0</td>\n",
              "      <td>0</td>\n",
              "      <td>0</td>\n",
              "      <td>...</td>\n",
              "      <td>1</td>\n",
              "      <td>0</td>\n",
              "      <td>0</td>\n",
              "      <td>0</td>\n",
              "      <td>0</td>\n",
              "      <td>0</td>\n",
              "      <td>0</td>\n",
              "      <td>0</td>\n",
              "      <td>1</td>\n",
              "      <td>0</td>\n",
              "    </tr>\n",
              "    <tr>\n",
              "      <th>2</th>\n",
              "      <td>1</td>\n",
              "      <td>5000</td>\n",
              "      <td>0</td>\n",
              "      <td>0</td>\n",
              "      <td>0</td>\n",
              "      <td>0</td>\n",
              "      <td>0</td>\n",
              "      <td>0</td>\n",
              "      <td>1</td>\n",
              "      <td>0</td>\n",
              "      <td>...</td>\n",
              "      <td>0</td>\n",
              "      <td>0</td>\n",
              "      <td>0</td>\n",
              "      <td>0</td>\n",
              "      <td>0</td>\n",
              "      <td>0</td>\n",
              "      <td>0</td>\n",
              "      <td>0</td>\n",
              "      <td>1</td>\n",
              "      <td>0</td>\n",
              "    </tr>\n",
              "    <tr>\n",
              "      <th>3</th>\n",
              "      <td>1</td>\n",
              "      <td>6692</td>\n",
              "      <td>1</td>\n",
              "      <td>0</td>\n",
              "      <td>0</td>\n",
              "      <td>0</td>\n",
              "      <td>1</td>\n",
              "      <td>0</td>\n",
              "      <td>0</td>\n",
              "      <td>0</td>\n",
              "      <td>...</td>\n",
              "      <td>0</td>\n",
              "      <td>1</td>\n",
              "      <td>0</td>\n",
              "      <td>0</td>\n",
              "      <td>0</td>\n",
              "      <td>0</td>\n",
              "      <td>0</td>\n",
              "      <td>0</td>\n",
              "      <td>1</td>\n",
              "      <td>0</td>\n",
              "    </tr>\n",
              "    <tr>\n",
              "      <th>4</th>\n",
              "      <td>1</td>\n",
              "      <td>142590</td>\n",
              "      <td>1</td>\n",
              "      <td>0</td>\n",
              "      <td>0</td>\n",
              "      <td>0</td>\n",
              "      <td>1</td>\n",
              "      <td>0</td>\n",
              "      <td>0</td>\n",
              "      <td>0</td>\n",
              "      <td>...</td>\n",
              "      <td>0</td>\n",
              "      <td>0</td>\n",
              "      <td>1</td>\n",
              "      <td>0</td>\n",
              "      <td>0</td>\n",
              "      <td>0</td>\n",
              "      <td>0</td>\n",
              "      <td>0</td>\n",
              "      <td>1</td>\n",
              "      <td>0</td>\n",
              "    </tr>\n",
              "  </tbody>\n",
              "</table>\n",
              "<p>5 rows × 44 columns</p>\n",
              "</div>\n",
              "      <button class=\"colab-df-convert\" onclick=\"convertToInteractive('df-a6bf7bca-6795-4ada-b24a-70ed03e53c2f')\"\n",
              "              title=\"Convert this dataframe to an interactive table.\"\n",
              "              style=\"display:none;\">\n",
              "        \n",
              "  <svg xmlns=\"http://www.w3.org/2000/svg\" height=\"24px\"viewBox=\"0 0 24 24\"\n",
              "       width=\"24px\">\n",
              "    <path d=\"M0 0h24v24H0V0z\" fill=\"none\"/>\n",
              "    <path d=\"M18.56 5.44l.94 2.06.94-2.06 2.06-.94-2.06-.94-.94-2.06-.94 2.06-2.06.94zm-11 1L8.5 8.5l.94-2.06 2.06-.94-2.06-.94L8.5 2.5l-.94 2.06-2.06.94zm10 10l.94 2.06.94-2.06 2.06-.94-2.06-.94-.94-2.06-.94 2.06-2.06.94z\"/><path d=\"M17.41 7.96l-1.37-1.37c-.4-.4-.92-.59-1.43-.59-.52 0-1.04.2-1.43.59L10.3 9.45l-7.72 7.72c-.78.78-.78 2.05 0 2.83L4 21.41c.39.39.9.59 1.41.59.51 0 1.02-.2 1.41-.59l7.78-7.78 2.81-2.81c.8-.78.8-2.07 0-2.86zM5.41 20L4 18.59l7.72-7.72 1.47 1.35L5.41 20z\"/>\n",
              "  </svg>\n",
              "      </button>\n",
              "      \n",
              "  <style>\n",
              "    .colab-df-container {\n",
              "      display:flex;\n",
              "      flex-wrap:wrap;\n",
              "      gap: 12px;\n",
              "    }\n",
              "\n",
              "    .colab-df-convert {\n",
              "      background-color: #E8F0FE;\n",
              "      border: none;\n",
              "      border-radius: 50%;\n",
              "      cursor: pointer;\n",
              "      display: none;\n",
              "      fill: #1967D2;\n",
              "      height: 32px;\n",
              "      padding: 0 0 0 0;\n",
              "      width: 32px;\n",
              "    }\n",
              "\n",
              "    .colab-df-convert:hover {\n",
              "      background-color: #E2EBFA;\n",
              "      box-shadow: 0px 1px 2px rgba(60, 64, 67, 0.3), 0px 1px 3px 1px rgba(60, 64, 67, 0.15);\n",
              "      fill: #174EA6;\n",
              "    }\n",
              "\n",
              "    [theme=dark] .colab-df-convert {\n",
              "      background-color: #3B4455;\n",
              "      fill: #D2E3FC;\n",
              "    }\n",
              "\n",
              "    [theme=dark] .colab-df-convert:hover {\n",
              "      background-color: #434B5C;\n",
              "      box-shadow: 0px 1px 3px 1px rgba(0, 0, 0, 0.15);\n",
              "      filter: drop-shadow(0px 1px 2px rgba(0, 0, 0, 0.3));\n",
              "      fill: #FFFFFF;\n",
              "    }\n",
              "  </style>\n",
              "\n",
              "      <script>\n",
              "        const buttonEl =\n",
              "          document.querySelector('#df-a6bf7bca-6795-4ada-b24a-70ed03e53c2f button.colab-df-convert');\n",
              "        buttonEl.style.display =\n",
              "          google.colab.kernel.accessAllowed ? 'block' : 'none';\n",
              "\n",
              "        async function convertToInteractive(key) {\n",
              "          const element = document.querySelector('#df-a6bf7bca-6795-4ada-b24a-70ed03e53c2f');\n",
              "          const dataTable =\n",
              "            await google.colab.kernel.invokeFunction('convertToInteractive',\n",
              "                                                     [key], {});\n",
              "          if (!dataTable) return;\n",
              "\n",
              "          const docLinkHtml = 'Like what you see? Visit the ' +\n",
              "            '<a target=\"_blank\" href=https://colab.research.google.com/notebooks/data_table.ipynb>data table notebook</a>'\n",
              "            + ' to learn more about interactive tables.';\n",
              "          element.innerHTML = '';\n",
              "          dataTable['output_type'] = 'display_data';\n",
              "          await google.colab.output.renderOutput(dataTable, element);\n",
              "          const docLink = document.createElement('div');\n",
              "          docLink.innerHTML = docLinkHtml;\n",
              "          element.appendChild(docLink);\n",
              "        }\n",
              "      </script>\n",
              "    </div>\n",
              "  </div>\n",
              "  "
            ]
          },
          "metadata": {},
          "execution_count": 49
        }
      ],
      "source": [
        "# Convert categorical data to numeric with `pd.get_dummies`\n",
        "application_df = pd.get_dummies(application_df)\n",
        "application_df.head()"
      ]
    },
    {
      "cell_type": "code",
      "execution_count": 50,
      "metadata": {
        "colab": {
          "base_uri": "https://localhost:8080/"
        },
        "id": "YAjwfgd4RbTW",
        "outputId": "e51450d4-9818-4e69-cd88-9e7aeed06f0c"
      },
      "outputs": [
        {
          "output_type": "stream",
          "name": "stderr",
          "text": [
            "<ipython-input-50-c3085675472e>:3: FutureWarning: In a future version of pandas all arguments of DataFrame.drop except for the argument 'labels' will be keyword-only.\n",
            "  X = application_df.drop([\"IS_SUCCESSFUL\"],1).values\n"
          ]
        }
      ],
      "source": [
        "# Split our preprocessed data into our features and target arrays\n",
        "y = application_df[\"IS_SUCCESSFUL\"].values\n",
        "X = application_df.drop([\"IS_SUCCESSFUL\"],1).values\n",
        "\n",
        "# Split the preprocessed data into a training and testing dataset\n",
        "X_train, X_test, y_train, y_test = train_test_split(X, y, random_state=1, stratify=y)"
      ]
    },
    {
      "cell_type": "code",
      "execution_count": 51,
      "metadata": {
        "id": "2kQa33R4RbTW"
      },
      "outputs": [],
      "source": [
        "# Create a StandardScaler instances\n",
        "scaler = StandardScaler()\n",
        "\n",
        "# Fit the StandardScaler\n",
        "X_scaler = scaler.fit(X_train)\n",
        "\n",
        "# Scale the data\n",
        "X_train_scaled = X_scaler.transform(X_train)\n",
        "X_test_scaled = X_scaler.transform(X_test)"
      ]
    },
    {
      "cell_type": "markdown",
      "metadata": {
        "id": "KEucoXZARbTW"
      },
      "source": [
        "## Compile, Train and Evaluate the Model"
      ]
    },
    {
      "cell_type": "code",
      "source": [
        "# Define the model - deep neural net, i.e., the number of input features and hidden nodes for each layer.\n",
        "\n",
        "\n",
        "nn = tf.keras.models.Sequential()\n",
        "\n",
        "# First hidden layer\n",
        "nn.add(tf.keras.layers.Dense(units=80, activation=\"relu\", input_dim=43))\n",
        "\n",
        "\n",
        "# Second hidden layer\n",
        "nn.add(tf.keras.layers.Dense(units=30, activation=\"relu\"))\n",
        "\n",
        "# Output layer\n",
        "nn.add(tf.keras.layers.Dense(units=1, activation=\"sigmoid\"))\n",
        "\n",
        "# Check the structure of the model\n",
        "nn.summary()"
      ],
      "metadata": {
        "colab": {
          "base_uri": "https://localhost:8080/"
        },
        "id": "YSOoBsuolU3o",
        "outputId": "463f6cb3-706e-489e-d98c-5565f2affe71"
      },
      "execution_count": 52,
      "outputs": [
        {
          "output_type": "stream",
          "name": "stdout",
          "text": [
            "Model: \"sequential_3\"\n",
            "_________________________________________________________________\n",
            " Layer (type)                Output Shape              Param #   \n",
            "=================================================================\n",
            " dense_11 (Dense)            (None, 80)                3520      \n",
            "                                                                 \n",
            " dense_12 (Dense)            (None, 30)                2430      \n",
            "                                                                 \n",
            " dense_13 (Dense)            (None, 1)                 31        \n",
            "                                                                 \n",
            "=================================================================\n",
            "Total params: 5,981\n",
            "Trainable params: 5,981\n",
            "Non-trainable params: 0\n",
            "_________________________________________________________________\n"
          ]
        }
      ]
    },
    {
      "cell_type": "code",
      "execution_count": 53,
      "metadata": {
        "id": "Ao4Fp3X-RbTW"
      },
      "outputs": [],
      "source": [
        "# Compile the model\n",
        "nn.compile(loss=\"binary_crossentropy\", optimizer=\"adam\", metrics=[\"accuracy\"])"
      ]
    },
    {
      "cell_type": "code",
      "execution_count": 54,
      "metadata": {
        "colab": {
          "base_uri": "https://localhost:8080/"
        },
        "id": "yd1-9F7PRbTW",
        "outputId": "9b9ba174-9920-40cd-b8c8-a61e892eda3e"
      },
      "outputs": [
        {
          "output_type": "stream",
          "name": "stdout",
          "text": [
            "Epoch 1/100\n",
            "804/804 [==============================] - 4s 3ms/step - loss: 0.5706 - accuracy: 0.7205\n",
            "Epoch 2/100\n",
            "804/804 [==============================] - 3s 4ms/step - loss: 0.5545 - accuracy: 0.7282\n",
            "Epoch 3/100\n",
            "804/804 [==============================] - 4s 5ms/step - loss: 0.5512 - accuracy: 0.7306\n",
            "Epoch 4/100\n",
            "804/804 [==============================] - 2s 3ms/step - loss: 0.5493 - accuracy: 0.7310\n",
            "Epoch 5/100\n",
            "804/804 [==============================] - 3s 4ms/step - loss: 0.5487 - accuracy: 0.7318\n",
            "Epoch 6/100\n",
            "804/804 [==============================] - 3s 4ms/step - loss: 0.5466 - accuracy: 0.7341\n",
            "Epoch 7/100\n",
            "804/804 [==============================] - 2s 2ms/step - loss: 0.5464 - accuracy: 0.7339\n",
            "Epoch 8/100\n",
            "804/804 [==============================] - 2s 3ms/step - loss: 0.5461 - accuracy: 0.7333\n",
            "Epoch 9/100\n",
            "804/804 [==============================] - 2s 3ms/step - loss: 0.5452 - accuracy: 0.7356\n",
            "Epoch 10/100\n",
            "804/804 [==============================] - 2s 3ms/step - loss: 0.5452 - accuracy: 0.7336\n",
            "Epoch 11/100\n",
            "804/804 [==============================] - 2s 3ms/step - loss: 0.5447 - accuracy: 0.7337\n",
            "Epoch 12/100\n",
            "804/804 [==============================] - 3s 4ms/step - loss: 0.5441 - accuracy: 0.7346\n",
            "Epoch 13/100\n",
            "804/804 [==============================] - 3s 4ms/step - loss: 0.5441 - accuracy: 0.7348\n",
            "Epoch 14/100\n",
            "804/804 [==============================] - 2s 2ms/step - loss: 0.5437 - accuracy: 0.7335\n",
            "Epoch 15/100\n",
            "804/804 [==============================] - 2s 3ms/step - loss: 0.5436 - accuracy: 0.7353\n",
            "Epoch 16/100\n",
            "804/804 [==============================] - 2s 3ms/step - loss: 0.5426 - accuracy: 0.7350\n",
            "Epoch 17/100\n",
            "804/804 [==============================] - 2s 3ms/step - loss: 0.5425 - accuracy: 0.7350\n",
            "Epoch 18/100\n",
            "804/804 [==============================] - 2s 3ms/step - loss: 0.5424 - accuracy: 0.7347\n",
            "Epoch 19/100\n",
            "804/804 [==============================] - 3s 4ms/step - loss: 0.5420 - accuracy: 0.7353\n",
            "Epoch 20/100\n",
            "804/804 [==============================] - 3s 4ms/step - loss: 0.5419 - accuracy: 0.7353\n",
            "Epoch 21/100\n",
            "804/804 [==============================] - 2s 3ms/step - loss: 0.5417 - accuracy: 0.7352\n",
            "Epoch 22/100\n",
            "804/804 [==============================] - 2s 3ms/step - loss: 0.5413 - accuracy: 0.7359\n",
            "Epoch 23/100\n",
            "804/804 [==============================] - 2s 3ms/step - loss: 0.5409 - accuracy: 0.7359\n",
            "Epoch 24/100\n",
            "804/804 [==============================] - 2s 3ms/step - loss: 0.5412 - accuracy: 0.7350\n",
            "Epoch 25/100\n",
            "804/804 [==============================] - 2s 3ms/step - loss: 0.5407 - accuracy: 0.7372\n",
            "Epoch 26/100\n",
            "804/804 [==============================] - 3s 4ms/step - loss: 0.5411 - accuracy: 0.7365\n",
            "Epoch 27/100\n",
            "804/804 [==============================] - 3s 4ms/step - loss: 0.5409 - accuracy: 0.7359\n",
            "Epoch 28/100\n",
            "804/804 [==============================] - 2s 3ms/step - loss: 0.5403 - accuracy: 0.7370\n",
            "Epoch 29/100\n",
            "804/804 [==============================] - 2s 3ms/step - loss: 0.5395 - accuracy: 0.7378\n",
            "Epoch 30/100\n",
            "804/804 [==============================] - 2s 3ms/step - loss: 0.5395 - accuracy: 0.7363\n",
            "Epoch 31/100\n",
            "804/804 [==============================] - 2s 3ms/step - loss: 0.5400 - accuracy: 0.7371\n",
            "Epoch 32/100\n",
            "804/804 [==============================] - 2s 3ms/step - loss: 0.5397 - accuracy: 0.7372\n",
            "Epoch 33/100\n",
            "804/804 [==============================] - 3s 4ms/step - loss: 0.5391 - accuracy: 0.7379\n",
            "Epoch 34/100\n",
            "804/804 [==============================] - 3s 4ms/step - loss: 0.5395 - accuracy: 0.7379\n",
            "Epoch 35/100\n",
            "804/804 [==============================] - 2s 3ms/step - loss: 0.5392 - accuracy: 0.7365\n",
            "Epoch 36/100\n",
            "804/804 [==============================] - 2s 3ms/step - loss: 0.5393 - accuracy: 0.7378\n",
            "Epoch 37/100\n",
            "804/804 [==============================] - 2s 3ms/step - loss: 0.5394 - accuracy: 0.7374\n",
            "Epoch 38/100\n",
            "804/804 [==============================] - 2s 3ms/step - loss: 0.5384 - accuracy: 0.7380\n",
            "Epoch 39/100\n",
            "804/804 [==============================] - 2s 3ms/step - loss: 0.5391 - accuracy: 0.7373\n",
            "Epoch 40/100\n",
            "804/804 [==============================] - 3s 4ms/step - loss: 0.5382 - accuracy: 0.7373\n",
            "Epoch 41/100\n",
            "804/804 [==============================] - 3s 4ms/step - loss: 0.5384 - accuracy: 0.7377\n",
            "Epoch 42/100\n",
            "804/804 [==============================] - 2s 3ms/step - loss: 0.5385 - accuracy: 0.7381\n",
            "Epoch 43/100\n",
            "804/804 [==============================] - 2s 3ms/step - loss: 0.5385 - accuracy: 0.7380\n",
            "Epoch 44/100\n",
            "804/804 [==============================] - 2s 3ms/step - loss: 0.5382 - accuracy: 0.7378\n",
            "Epoch 45/100\n",
            "804/804 [==============================] - 2s 2ms/step - loss: 0.5382 - accuracy: 0.7379\n",
            "Epoch 46/100\n",
            "804/804 [==============================] - 3s 3ms/step - loss: 0.5382 - accuracy: 0.7387\n",
            "Epoch 47/100\n",
            "804/804 [==============================] - 3s 4ms/step - loss: 0.5381 - accuracy: 0.7392\n",
            "Epoch 48/100\n",
            "804/804 [==============================] - 3s 4ms/step - loss: 0.5379 - accuracy: 0.7394\n",
            "Epoch 49/100\n",
            "804/804 [==============================] - 2s 3ms/step - loss: 0.5379 - accuracy: 0.7383\n",
            "Epoch 50/100\n",
            "804/804 [==============================] - 2s 3ms/step - loss: 0.5379 - accuracy: 0.7381\n",
            "Epoch 51/100\n",
            "804/804 [==============================] - 2s 3ms/step - loss: 0.5377 - accuracy: 0.7383\n",
            "Epoch 52/100\n",
            "804/804 [==============================] - 2s 3ms/step - loss: 0.5374 - accuracy: 0.7387\n",
            "Epoch 53/100\n",
            "804/804 [==============================] - 3s 3ms/step - loss: 0.5370 - accuracy: 0.7385\n",
            "Epoch 54/100\n",
            "804/804 [==============================] - 3s 4ms/step - loss: 0.5370 - accuracy: 0.7389\n",
            "Epoch 55/100\n",
            "804/804 [==============================] - 3s 3ms/step - loss: 0.5373 - accuracy: 0.7382\n",
            "Epoch 56/100\n",
            "804/804 [==============================] - 2s 3ms/step - loss: 0.5372 - accuracy: 0.7386\n",
            "Epoch 57/100\n",
            "804/804 [==============================] - 2s 3ms/step - loss: 0.5367 - accuracy: 0.7377\n",
            "Epoch 58/100\n",
            "804/804 [==============================] - 2s 3ms/step - loss: 0.5367 - accuracy: 0.7390\n",
            "Epoch 59/100\n",
            "804/804 [==============================] - 2s 3ms/step - loss: 0.5367 - accuracy: 0.7395\n",
            "Epoch 60/100\n",
            "804/804 [==============================] - 3s 4ms/step - loss: 0.5368 - accuracy: 0.7389\n",
            "Epoch 61/100\n",
            "804/804 [==============================] - 3s 4ms/step - loss: 0.5364 - accuracy: 0.7381\n",
            "Epoch 62/100\n",
            "804/804 [==============================] - 3s 3ms/step - loss: 0.5364 - accuracy: 0.7390\n",
            "Epoch 63/100\n",
            "804/804 [==============================] - 2s 3ms/step - loss: 0.5366 - accuracy: 0.7395\n",
            "Epoch 64/100\n",
            "804/804 [==============================] - 2s 3ms/step - loss: 0.5363 - accuracy: 0.7390\n",
            "Epoch 65/100\n",
            "804/804 [==============================] - 2s 3ms/step - loss: 0.5362 - accuracy: 0.7391\n",
            "Epoch 66/100\n",
            "804/804 [==============================] - 2s 3ms/step - loss: 0.5361 - accuracy: 0.7392\n",
            "Epoch 67/100\n",
            "804/804 [==============================] - 3s 4ms/step - loss: 0.5361 - accuracy: 0.7392\n",
            "Epoch 68/100\n",
            "804/804 [==============================] - 3s 4ms/step - loss: 0.5359 - accuracy: 0.7387\n",
            "Epoch 69/100\n",
            "804/804 [==============================] - 2s 3ms/step - loss: 0.5358 - accuracy: 0.7395\n",
            "Epoch 70/100\n",
            "804/804 [==============================] - 2s 3ms/step - loss: 0.5358 - accuracy: 0.7393\n",
            "Epoch 71/100\n",
            "804/804 [==============================] - 2s 3ms/step - loss: 0.5360 - accuracy: 0.7394\n",
            "Epoch 72/100\n",
            "804/804 [==============================] - 2s 3ms/step - loss: 0.5359 - accuracy: 0.7385\n",
            "Epoch 73/100\n",
            "804/804 [==============================] - 2s 3ms/step - loss: 0.5353 - accuracy: 0.7396\n",
            "Epoch 74/100\n",
            "804/804 [==============================] - 3s 4ms/step - loss: 0.5355 - accuracy: 0.7395\n",
            "Epoch 75/100\n",
            "804/804 [==============================] - 3s 4ms/step - loss: 0.5356 - accuracy: 0.7396\n",
            "Epoch 76/100\n",
            "804/804 [==============================] - 2s 3ms/step - loss: 0.5350 - accuracy: 0.7395\n",
            "Epoch 77/100\n",
            "804/804 [==============================] - 2s 3ms/step - loss: 0.5351 - accuracy: 0.7406\n",
            "Epoch 78/100\n",
            "804/804 [==============================] - 2s 3ms/step - loss: 0.5353 - accuracy: 0.7393\n",
            "Epoch 79/100\n",
            "804/804 [==============================] - 2s 3ms/step - loss: 0.5352 - accuracy: 0.7395\n",
            "Epoch 80/100\n",
            "804/804 [==============================] - 3s 4ms/step - loss: 0.5352 - accuracy: 0.7395\n",
            "Epoch 81/100\n",
            "804/804 [==============================] - 3s 4ms/step - loss: 0.5351 - accuracy: 0.7397\n",
            "Epoch 82/100\n",
            "804/804 [==============================] - 3s 3ms/step - loss: 0.5353 - accuracy: 0.7401\n",
            "Epoch 83/100\n",
            "804/804 [==============================] - 2s 3ms/step - loss: 0.5352 - accuracy: 0.7393\n",
            "Epoch 84/100\n",
            "804/804 [==============================] - 2s 3ms/step - loss: 0.5356 - accuracy: 0.7406\n",
            "Epoch 85/100\n",
            "804/804 [==============================] - 2s 2ms/step - loss: 0.5351 - accuracy: 0.7396\n",
            "Epoch 86/100\n",
            "804/804 [==============================] - 2s 3ms/step - loss: 0.5346 - accuracy: 0.7402\n",
            "Epoch 87/100\n",
            "804/804 [==============================] - 3s 4ms/step - loss: 0.5350 - accuracy: 0.7398\n",
            "Epoch 88/100\n",
            "804/804 [==============================] - 3s 4ms/step - loss: 0.5346 - accuracy: 0.7397\n",
            "Epoch 89/100\n",
            "804/804 [==============================] - 3s 4ms/step - loss: 0.5343 - accuracy: 0.7398\n",
            "Epoch 90/100\n",
            "804/804 [==============================] - 2s 3ms/step - loss: 0.5347 - accuracy: 0.7402\n",
            "Epoch 91/100\n",
            "804/804 [==============================] - 2s 3ms/step - loss: 0.5348 - accuracy: 0.7398\n",
            "Epoch 92/100\n",
            "804/804 [==============================] - 2s 3ms/step - loss: 0.5345 - accuracy: 0.7402\n",
            "Epoch 93/100\n",
            "804/804 [==============================] - 2s 3ms/step - loss: 0.5344 - accuracy: 0.7400\n",
            "Epoch 94/100\n",
            "804/804 [==============================] - 3s 4ms/step - loss: 0.5349 - accuracy: 0.7397\n",
            "Epoch 95/100\n",
            "804/804 [==============================] - 3s 4ms/step - loss: 0.5343 - accuracy: 0.7402\n",
            "Epoch 96/100\n",
            "804/804 [==============================] - 2s 3ms/step - loss: 0.5344 - accuracy: 0.7402\n",
            "Epoch 97/100\n",
            "804/804 [==============================] - 2s 3ms/step - loss: 0.5346 - accuracy: 0.7404\n",
            "Epoch 98/100\n",
            "804/804 [==============================] - 2s 3ms/step - loss: 0.5345 - accuracy: 0.7409\n",
            "Epoch 99/100\n",
            "804/804 [==============================] - 2s 3ms/step - loss: 0.5343 - accuracy: 0.7407\n",
            "Epoch 100/100\n",
            "804/804 [==============================] - 2s 3ms/step - loss: 0.5339 - accuracy: 0.7394\n"
          ]
        }
      ],
      "source": [
        "# Train the model\n",
        "fit_model = nn.fit(X_train_scaled, y_train, epochs=100)"
      ]
    },
    {
      "cell_type": "code",
      "execution_count": 56,
      "metadata": {
        "colab": {
          "base_uri": "https://localhost:8080/"
        },
        "id": "joMAaig-RbTW",
        "outputId": "a6dafed8-711e-46ae-d31e-b04cd3c0cafb"
      },
      "outputs": [
        {
          "output_type": "stream",
          "name": "stdout",
          "text": [
            "268/268 - 0s - loss: 0.5616 - accuracy: 0.7294 - 446ms/epoch - 2ms/step\n",
            "Loss: 0.5616000890731812, Accuracy: 0.7294460535049438\n"
          ]
        }
      ],
      "source": [
        "# Evaluate the model using the test data\n",
        "model_loss, model_accuracy = nn.evaluate(X_test_scaled,y_test,verbose=2)\n",
        "print(f\"Loss: {model_loss}, Accuracy: {model_accuracy}\")"
      ]
    },
    {
      "cell_type": "code",
      "execution_count": 57,
      "metadata": {
        "id": "1UA7ex6YRbTX"
      },
      "outputs": [],
      "source": [
        "# Export our model to HDF5 file\n",
        "nn.save(\"AlphabetSoupCharity.h5\")"
      ]
    },
    {
      "cell_type": "markdown",
      "source": [
        "#Optimization Attempt #1"
      ],
      "metadata": {
        "id": "-l0KjilnETBo"
      }
    },
    {
      "cell_type": "code",
      "source": [
        "#Chi test\n",
        "from sklearn.feature_selection import chi2\n",
        "\n",
        "f_score, p_values= chi2(X_train, y_train)\n",
        "p_values"
      ],
      "metadata": {
        "colab": {
          "base_uri": "https://localhost:8080/"
        },
        "id": "QtaHb_21SClK",
        "outputId": "79b86dfa-e242-47f1-f40f-8d9a76db5bad"
      },
      "execution_count": 58,
      "outputs": [
        {
          "output_type": "execute_result",
          "data": {
            "text/plain": [
              "array([9.95984307e-001, 0.00000000e+000, 2.11196826e-012, 8.65051301e-046,\n",
              "       3.78275374e-086, 8.10345290e-001, 6.60272261e-050, 6.50711884e-049,\n",
              "       1.84309235e-037, 2.20008731e-001, 9.49531457e-009, 0.00000000e+000,\n",
              "       7.75345348e-001, 0.00000000e+000, 8.74801810e-001, 6.08946008e-002,\n",
              "       2.88191531e-001, 4.77729323e-012, 3.03110740e-016, 6.37415038e-001,\n",
              "       2.11709940e-114, 1.01285900e-002, 7.87486895e-065, 2.76163018e-008,\n",
              "       3.90114905e-003, 1.85071026e-001, 1.48633815e-001, 1.85736709e-001,\n",
              "       1.85819782e-119, 1.19814428e-015, 1.17991262e-004, 8.10645094e-045,\n",
              "       2.21256445e-006, 1.17966798e-027, 4.45144935e-009, 2.80468637e-005,\n",
              "       1.20583481e-003, 8.85440713e-006, 1.16195525e-007, 1.31230867e-006,\n",
              "       1.06142424e-001, 9.87165697e-001, 5.82440637e-001])"
            ]
          },
          "metadata": {},
          "execution_count": 58
        }
      ]
    },
    {
      "cell_type": "code",
      "source": [
        "new_X=application_df.drop([\"IS_SUCCESSFUL\"],1)\n",
        "p_values_series=pd.Series(p_values, index=new_X.columns)\n",
        "p_values_series.sort_values(ascending=True, inplace=True)\n",
        "p_values_series"
      ],
      "metadata": {
        "colab": {
          "base_uri": "https://localhost:8080/"
        },
        "id": "hDvvwImqYQ18",
        "outputId": "7d52571a-8873-42b1-fb83-fb54a4615065"
      },
      "execution_count": 59,
      "outputs": [
        {
          "output_type": "stream",
          "name": "stderr",
          "text": [
            "<ipython-input-59-cc81136ed028>:1: FutureWarning: In a future version of pandas all arguments of DataFrame.drop except for the argument 'labels' will be keyword-only.\n",
            "  new_X=application_df.drop([\"IS_SUCCESSFUL\"],1)\n"
          ]
        },
        {
          "output_type": "execute_result",
          "data": {
            "text/plain": [
              "AFFILIATION_CompanySponsored     0.000000e+00\n",
              "ASK_AMT                          0.000000e+00\n",
              "AFFILIATION_Independent          0.000000e+00\n",
              "ORGANIZATION_Association        1.858198e-119\n",
              "CLASSIFICATION_C2100            2.117099e-114\n",
              "APPLICATION_TYPE_T19             3.782754e-86\n",
              "CLASSIFICATION_Other             7.874869e-65\n",
              "APPLICATION_TYPE_T4              6.602723e-50\n",
              "APPLICATION_TYPE_T5              6.507119e-49\n",
              "APPLICATION_TYPE_T10             8.650513e-46\n",
              "ORGANIZATION_Trust               8.106451e-45\n",
              "APPLICATION_TYPE_T6              1.843092e-37\n",
              "INCOME_AMT_1-9999                1.179668e-27\n",
              "CLASSIFICATION_C1200             3.031107e-16\n",
              "ORGANIZATION_Co-operative        1.198144e-15\n",
              "APPLICATION_TYPE_Other           2.111968e-12\n",
              "CLASSIFICATION_C1000             4.777293e-12\n",
              "INCOME_AMT_10000-24999           4.451449e-09\n",
              "APPLICATION_TYPE_T8              9.495315e-09\n",
              "USE_CASE_CommunityServ           2.761630e-08\n",
              "INCOME_AMT_25000-99999           1.161955e-07\n",
              "INCOME_AMT_50M+                  1.312309e-06\n",
              "INCOME_AMT_0                     2.212564e-06\n",
              "INCOME_AMT_1M-5M                 8.854407e-06\n",
              "INCOME_AMT_100000-499999         2.804686e-05\n",
              "ORGANIZATION_Corporation         1.179913e-04\n",
              "INCOME_AMT_10M-50M               1.205835e-03\n",
              "USE_CASE_Heathcare               3.901149e-03\n",
              "CLASSIFICATION_C3000             1.012859e-02\n",
              "AFFILIATION_Other                6.089460e-02\n",
              "INCOME_AMT_5M-10M                1.061424e-01\n",
              "USE_CASE_Preservation            1.486338e-01\n",
              "USE_CASE_Other                   1.850710e-01\n",
              "USE_CASE_ProductDev              1.857367e-01\n",
              "APPLICATION_TYPE_T7              2.200087e-01\n",
              "AFFILIATION_Regional             2.881915e-01\n",
              "SPECIAL_CONSIDERATIONS_Y         5.824406e-01\n",
              "CLASSIFICATION_C2000             6.374150e-01\n",
              "AFFILIATION_Family/Parent        7.753453e-01\n",
              "APPLICATION_TYPE_T3              8.103453e-01\n",
              "AFFILIATION_National             8.748018e-01\n",
              "SPECIAL_CONSIDERATIONS_N         9.871657e-01\n",
              "STATUS                           9.959843e-01\n",
              "dtype: float64"
            ]
          },
          "metadata": {},
          "execution_count": 59
        }
      ]
    },
    {
      "cell_type": "code",
      "source": [
        "p_values_series.plot.bar()"
      ],
      "metadata": {
        "colab": {
          "base_uri": "https://localhost:8080/",
          "height": 663
        },
        "id": "xcvQ87N6ammB",
        "outputId": "2e7051a3-56aa-42b4-8fa0-be1db4b0c433"
      },
      "execution_count": 60,
      "outputs": [
        {
          "output_type": "execute_result",
          "data": {
            "text/plain": [
              "<Axes: >"
            ]
          },
          "metadata": {},
          "execution_count": 60
        },
        {
          "output_type": "display_data",
          "data": {
            "text/plain": [
              "<Figure size 640x480 with 1 Axes>"
            ],
            "image/png": "[encoded data removed]"
          },
          "metadata": {}
        }
      ]
    },
    {
      "cell_type": "code",
      "source": [
        "# Calculate the r2 score for the test data\n",
        "from sklearn.metrics import r2_score\n",
        "y_pred = nn.predict(X_test_scaled)\n",
        "r2_score(y_test, y_pred)\n"
      ],
      "metadata": {
        "colab": {
          "base_uri": "https://localhost:8080/"
        },
        "id": "QRgfdlc4RfMT",
        "outputId": "411b4cfd-7e1d-4258-8e3c-d6d9b4437e0b"
      },
      "execution_count": 61,
      "outputs": [
        {
          "output_type": "stream",
          "name": "stdout",
          "text": [
            "268/268 [==============================] - 1s 2ms/step\n"
          ]
        },
        {
          "output_type": "execute_result",
          "data": {
            "text/plain": [
              "0.24627576247590255"
            ]
          },
          "metadata": {},
          "execution_count": 61
        }
      ]
    },
    {
      "cell_type": "code",
      "source": [
        "#From this, all of the classifications from AFFILIATION_Other to STATUS are not significant. Let's see if removing them makes a difference. \n",
        "cleaned_application_df=application_df.drop([\"AFFILIATION_Other\",\"INCOME_AMT_5M-10M\",\"USE_CASE_Preservation\",\"USE_CASE_Other\",\"USE_CASE_ProductDev\",\"APPLICATION_TYPE_T7\",\n",
        "                                            \"AFFILIATION_Regional\",\"SPECIAL_CONSIDERATIONS_Y\",\"CLASSIFICATION_C2000\",\"AFFILIATION_Family/Parent\",\"APPLICATION_TYPE_T3\",\n",
        "                                            \"AFFILIATION_National\",\"SPECIAL_CONSIDERATIONS_N\",\"STATUS\"], axis=1)"
      ],
      "metadata": {
        "id": "siz6chZxWo-u"
      },
      "execution_count": 69,
      "outputs": []
    },
    {
      "cell_type": "markdown",
      "source": [],
      "metadata": {
        "id": "uS8UxuJXTyIY"
      }
    },
    {
      "cell_type": "code",
      "source": [
        "#For good measure, let's count how many null values are in the dataframe\n",
        "\n",
        "null_counts=cleaned_application_df.isnull().sum()\n",
        "\n",
        "null_counts"
      ],
      "metadata": {
        "colab": {
          "base_uri": "https://localhost:8080/"
        },
        "id": "qlOUW9tTcr1v",
        "outputId": "b7eab414-8025-4fe0-cb9d-682de77ad810"
      },
      "execution_count": 70,
      "outputs": [
        {
          "output_type": "execute_result",
          "data": {
            "text/plain": [
              "ASK_AMT                         0\n",
              "IS_SUCCESSFUL                   0\n",
              "APPLICATION_TYPE_Other          0\n",
              "APPLICATION_TYPE_T10            0\n",
              "APPLICATION_TYPE_T19            0\n",
              "APPLICATION_TYPE_T4             0\n",
              "APPLICATION_TYPE_T5             0\n",
              "APPLICATION_TYPE_T6             0\n",
              "APPLICATION_TYPE_T8             0\n",
              "AFFILIATION_CompanySponsored    0\n",
              "AFFILIATION_Independent         0\n",
              "CLASSIFICATION_C1000            0\n",
              "CLASSIFICATION_C1200            0\n",
              "CLASSIFICATION_C2100            0\n",
              "CLASSIFICATION_C3000            0\n",
              "CLASSIFICATION_Other            0\n",
              "USE_CASE_CommunityServ          0\n",
              "USE_CASE_Heathcare              0\n",
              "ORGANIZATION_Association        0\n",
              "ORGANIZATION_Co-operative       0\n",
              "ORGANIZATION_Corporation        0\n",
              "ORGANIZATION_Trust              0\n",
              "INCOME_AMT_0                    0\n",
              "INCOME_AMT_1-9999               0\n",
              "INCOME_AMT_10000-24999          0\n",
              "INCOME_AMT_100000-499999        0\n",
              "INCOME_AMT_10M-50M              0\n",
              "INCOME_AMT_1M-5M                0\n",
              "INCOME_AMT_25000-99999          0\n",
              "INCOME_AMT_50M+                 0\n",
              "dtype: int64"
            ]
          },
          "metadata": {},
          "execution_count": 70
        }
      ]
    },
    {
      "cell_type": "code",
      "source": [
        "# Split our preprocessed data into our features and target arrays for cleaned data\n",
        "y = cleaned_application_df[\"IS_SUCCESSFUL\"].values\n",
        "X = cleaned_application_df.drop([\"IS_SUCCESSFUL\"],1).values\n",
        "\n",
        "# Split the preprocessed data into a training and testing dataset. This time let's set the training set to 80%\n",
        "X_train, X_test, y_train, y_test = train_test_split(X, y, random_state=1, test_size=0.2, stratify=y)"
      ],
      "metadata": {
        "colab": {
          "base_uri": "https://localhost:8080/"
        },
        "id": "ExbAfQexbMha",
        "outputId": "d848d9b0-48e3-49e3-c3f6-54002a851cb4"
      },
      "execution_count": 71,
      "outputs": [
        {
          "output_type": "stream",
          "name": "stderr",
          "text": [
            "<ipython-input-71-2e86cb3c7482>:3: FutureWarning: In a future version of pandas all arguments of DataFrame.drop except for the argument 'labels' will be keyword-only.\n",
            "  X = cleaned_application_df.drop([\"IS_SUCCESSFUL\"],1).values\n"
          ]
        }
      ]
    },
    {
      "cell_type": "code",
      "source": [
        "# Create a StandardScaler instances\n",
        "scaler = StandardScaler()\n",
        "\n",
        "# Fit the StandardScaler\n",
        "X_scaler = scaler.fit(X_train)\n",
        "\n",
        "# Scale the data\n",
        "X_train_scaled = X_scaler.transform(X_train)\n",
        "X_test_scaled = X_scaler.transform(X_test)"
      ],
      "metadata": {
        "id": "6GknmaRubleQ"
      },
      "execution_count": 72,
      "outputs": []
    },
    {
      "cell_type": "code",
      "source": [
        "# Define the model - deep neural net, i.e., the number of input features and hidden nodes for each layer.\n",
        "\n",
        "\n",
        "nn = tf.keras.models.Sequential()\n",
        "\n",
        "# First hidden layer\n",
        "nn.add(tf.keras.layers.Dense(units=29, activation=\"relu\", input_dim=29))\n",
        "\n",
        "\n",
        "# Second hidden layer\n",
        "nn.add(tf.keras.layers.Dense(units=58, activation=\"relu\"))\n",
        "\n",
        "#Third hidden layer\n",
        "\n",
        "nn.add(tf.keras.layers.Dense(units=20, activation=\"relu\"))\n",
        "\n",
        "# Output layer\n",
        "nn.add(tf.keras.layers.Dense(units=1, activation=\"sigmoid\"))\n",
        "\n",
        "# Check the structure of the model\n",
        "nn.summary()"
      ],
      "metadata": {
        "colab": {
          "base_uri": "https://localhost:8080/"
        },
        "id": "gq0L9Mm2btj4",
        "outputId": "996cee34-9c20-4f31-fe2c-96ef3d41096d"
      },
      "execution_count": 76,
      "outputs": [
        {
          "output_type": "stream",
          "name": "stdout",
          "text": [
            "Model: \"sequential_6\"\n",
            "_________________________________________________________________\n",
            " Layer (type)                Output Shape              Param #   \n",
            "=================================================================\n",
            " dense_22 (Dense)            (None, 29)                870       \n",
            "                                                                 \n",
            " dense_23 (Dense)            (None, 58)                1740      \n",
            "                                                                 \n",
            " dense_24 (Dense)            (None, 20)                1180      \n",
            "                                                                 \n",
            " dense_25 (Dense)            (None, 1)                 21        \n",
            "                                                                 \n",
            "=================================================================\n",
            "Total params: 3,811\n",
            "Trainable params: 3,811\n",
            "Non-trainable params: 0\n",
            "_________________________________________________________________\n"
          ]
        }
      ]
    },
    {
      "cell_type": "code",
      "source": [
        "# Compile the model\n",
        "nn.compile(loss=\"binary_crossentropy\", optimizer=\"adam\", metrics=[\"accuracy\"])"
      ],
      "metadata": {
        "id": "XdlzlAtsbveh"
      },
      "execution_count": 77,
      "outputs": []
    },
    {
      "cell_type": "code",
      "source": [
        "# Train the model\n",
        "fit_model = nn.fit(X_train_scaled, y_train, epochs=100)"
      ],
      "metadata": {
        "colab": {
          "base_uri": "https://localhost:8080/"
        },
        "id": "V3-__kt_b31g",
        "outputId": "023104e1-0ada-4151-e73f-3a82b45fb9f7"
      },
      "execution_count": 78,
      "outputs": [
        {
          "output_type": "stream",
          "name": "stdout",
          "text": [
            "Epoch 1/100\n",
            "858/858 [==============================] - 5s 4ms/step - loss: 0.5736 - accuracy: 0.7179\n",
            "Epoch 2/100\n",
            "858/858 [==============================] - 3s 4ms/step - loss: 0.5606 - accuracy: 0.7245\n",
            "Epoch 3/100\n",
            "858/858 [==============================] - 2s 3ms/step - loss: 0.5583 - accuracy: 0.7268\n",
            "Epoch 4/100\n",
            "858/858 [==============================] - 3s 3ms/step - loss: 0.5572 - accuracy: 0.7272\n",
            "Epoch 5/100\n",
            "858/858 [==============================] - 2s 3ms/step - loss: 0.5559 - accuracy: 0.7267\n",
            "Epoch 6/100\n",
            "858/858 [==============================] - 3s 3ms/step - loss: 0.5549 - accuracy: 0.7281\n",
            "Epoch 7/100\n",
            "858/858 [==============================] - 4s 5ms/step - loss: 0.5542 - accuracy: 0.7284\n",
            "Epoch 8/100\n",
            "858/858 [==============================] - 3s 4ms/step - loss: 0.5538 - accuracy: 0.7292\n",
            "Epoch 9/100\n",
            "858/858 [==============================] - 2s 3ms/step - loss: 0.5530 - accuracy: 0.7293\n",
            "Epoch 10/100\n",
            "858/858 [==============================] - 2s 3ms/step - loss: 0.5535 - accuracy: 0.7299\n",
            "Epoch 11/100\n",
            "858/858 [==============================] - 3s 3ms/step - loss: 0.5528 - accuracy: 0.7307\n",
            "Epoch 12/100\n",
            "858/858 [==============================] - 3s 4ms/step - loss: 0.5522 - accuracy: 0.7305\n",
            "Epoch 13/100\n",
            "858/858 [==============================] - 4s 4ms/step - loss: 0.5518 - accuracy: 0.7302\n",
            "Epoch 14/100\n",
            "858/858 [==============================] - 3s 3ms/step - loss: 0.5516 - accuracy: 0.7294\n",
            "Epoch 15/100\n",
            "858/858 [==============================] - 2s 3ms/step - loss: 0.5514 - accuracy: 0.7306\n",
            "Epoch 16/100\n",
            "858/858 [==============================] - 2s 3ms/step - loss: 0.5512 - accuracy: 0.7309\n",
            "Epoch 17/100\n",
            "858/858 [==============================] - 2s 3ms/step - loss: 0.5509 - accuracy: 0.7310\n",
            "Epoch 18/100\n",
            "858/858 [==============================] - 3s 4ms/step - loss: 0.5505 - accuracy: 0.7308\n",
            "Epoch 19/100\n",
            "858/858 [==============================] - 4s 4ms/step - loss: 0.5506 - accuracy: 0.7310\n",
            "Epoch 20/100\n",
            "858/858 [==============================] - 3s 3ms/step - loss: 0.5502 - accuracy: 0.7323\n",
            "Epoch 21/100\n",
            "858/858 [==============================] - 3s 3ms/step - loss: 0.5501 - accuracy: 0.7308\n",
            "Epoch 22/100\n",
            "858/858 [==============================] - 2s 3ms/step - loss: 0.5499 - accuracy: 0.7327\n",
            "Epoch 23/100\n",
            "858/858 [==============================] - 2s 3ms/step - loss: 0.5497 - accuracy: 0.7314\n",
            "Epoch 24/100\n",
            "858/858 [==============================] - 3s 4ms/step - loss: 0.5497 - accuracy: 0.7320\n",
            "Epoch 25/100\n",
            "858/858 [==============================] - 3s 4ms/step - loss: 0.5495 - accuracy: 0.7321\n",
            "Epoch 26/100\n",
            "858/858 [==============================] - 3s 3ms/step - loss: 0.5493 - accuracy: 0.7315\n",
            "Epoch 27/100\n",
            "858/858 [==============================] - 2s 3ms/step - loss: 0.5494 - accuracy: 0.7323\n",
            "Epoch 28/100\n",
            "858/858 [==============================] - 2s 3ms/step - loss: 0.5491 - accuracy: 0.7314\n",
            "Epoch 29/100\n",
            "858/858 [==============================] - 2s 3ms/step - loss: 0.5491 - accuracy: 0.7317\n",
            "Epoch 30/100\n",
            "858/858 [==============================] - 3s 3ms/step - loss: 0.5487 - accuracy: 0.7313\n",
            "Epoch 31/100\n",
            "858/858 [==============================] - 4s 5ms/step - loss: 0.5484 - accuracy: 0.7328\n",
            "Epoch 32/100\n",
            "858/858 [==============================] - 3s 4ms/step - loss: 0.5487 - accuracy: 0.7330\n",
            "Epoch 33/100\n",
            "858/858 [==============================] - 2s 3ms/step - loss: 0.5483 - accuracy: 0.7332\n",
            "Epoch 34/100\n",
            "858/858 [==============================] - 3s 3ms/step - loss: 0.5484 - accuracy: 0.7331\n",
            "Epoch 35/100\n",
            "858/858 [==============================] - 2s 3ms/step - loss: 0.5478 - accuracy: 0.7324\n",
            "Epoch 36/100\n",
            "858/858 [==============================] - 3s 4ms/step - loss: 0.5479 - accuracy: 0.7325\n",
            "Epoch 37/100\n",
            "858/858 [==============================] - 5s 6ms/step - loss: 0.5481 - accuracy: 0.7327\n",
            "Epoch 38/100\n",
            "858/858 [==============================] - 3s 4ms/step - loss: 0.5479 - accuracy: 0.7329\n",
            "Epoch 39/100\n",
            "858/858 [==============================] - 2s 3ms/step - loss: 0.5481 - accuracy: 0.7334\n",
            "Epoch 40/100\n",
            "858/858 [==============================] - 3s 3ms/step - loss: 0.5474 - accuracy: 0.7325\n",
            "Epoch 41/100\n",
            "858/858 [==============================] - 3s 3ms/step - loss: 0.5474 - accuracy: 0.7331\n",
            "Epoch 42/100\n",
            "858/858 [==============================] - 4s 4ms/step - loss: 0.5473 - accuracy: 0.7322\n",
            "Epoch 43/100\n",
            "858/858 [==============================] - 3s 4ms/step - loss: 0.5478 - accuracy: 0.7334\n",
            "Epoch 44/100\n",
            "858/858 [==============================] - 3s 3ms/step - loss: 0.5477 - accuracy: 0.7333\n",
            "Epoch 45/100\n",
            "858/858 [==============================] - 3s 3ms/step - loss: 0.5475 - accuracy: 0.7325\n",
            "Epoch 46/100\n",
            "858/858 [==============================] - 2s 3ms/step - loss: 0.5474 - accuracy: 0.7337\n",
            "Epoch 47/100\n",
            "858/858 [==============================] - 3s 4ms/step - loss: 0.5471 - accuracy: 0.7327\n",
            "Epoch 48/100\n",
            "858/858 [==============================] - 4s 4ms/step - loss: 0.5469 - accuracy: 0.7334\n",
            "Epoch 49/100\n",
            "858/858 [==============================] - 3s 3ms/step - loss: 0.5470 - accuracy: 0.7331\n",
            "Epoch 50/100\n",
            "858/858 [==============================] - 2s 3ms/step - loss: 0.5470 - accuracy: 0.7338\n",
            "Epoch 51/100\n",
            "858/858 [==============================] - 2s 3ms/step - loss: 0.5470 - accuracy: 0.7332\n",
            "Epoch 52/100\n",
            "858/858 [==============================] - 2s 3ms/step - loss: 0.5467 - accuracy: 0.7327\n",
            "Epoch 53/100\n",
            "858/858 [==============================] - 3s 4ms/step - loss: 0.5468 - accuracy: 0.7333\n",
            "Epoch 54/100\n",
            "858/858 [==============================] - 4s 4ms/step - loss: 0.5464 - accuracy: 0.7341\n",
            "Epoch 55/100\n",
            "858/858 [==============================] - 3s 3ms/step - loss: 0.5466 - accuracy: 0.7334\n",
            "Epoch 56/100\n",
            "858/858 [==============================] - 2s 3ms/step - loss: 0.5462 - accuracy: 0.7328\n",
            "Epoch 57/100\n",
            "858/858 [==============================] - 2s 3ms/step - loss: 0.5463 - accuracy: 0.7339\n",
            "Epoch 58/100\n",
            "858/858 [==============================] - 2s 3ms/step - loss: 0.5465 - accuracy: 0.7341\n",
            "Epoch 59/100\n",
            "858/858 [==============================] - 3s 4ms/step - loss: 0.5465 - accuracy: 0.7330\n",
            "Epoch 60/100\n",
            "858/858 [==============================] - 4s 4ms/step - loss: 0.5455 - accuracy: 0.7342\n",
            "Epoch 61/100\n",
            "858/858 [==============================] - 3s 3ms/step - loss: 0.5462 - accuracy: 0.7333\n",
            "Epoch 62/100\n",
            "858/858 [==============================] - 2s 3ms/step - loss: 0.5463 - accuracy: 0.7341\n",
            "Epoch 63/100\n",
            "858/858 [==============================] - 2s 3ms/step - loss: 0.5459 - accuracy: 0.7335\n",
            "Epoch 64/100\n",
            "858/858 [==============================] - 2s 3ms/step - loss: 0.5460 - accuracy: 0.7340\n",
            "Epoch 65/100\n",
            "858/858 [==============================] - 3s 3ms/step - loss: 0.5456 - accuracy: 0.7334\n",
            "Epoch 66/100\n",
            "858/858 [==============================] - 4s 4ms/step - loss: 0.5458 - accuracy: 0.7337\n",
            "Epoch 67/100\n",
            "858/858 [==============================] - 3s 3ms/step - loss: 0.5454 - accuracy: 0.7349\n",
            "Epoch 68/100\n",
            "858/858 [==============================] - 2s 3ms/step - loss: 0.5454 - accuracy: 0.7337\n",
            "Epoch 69/100\n",
            "858/858 [==============================] - 2s 3ms/step - loss: 0.5455 - accuracy: 0.7337\n",
            "Epoch 70/100\n",
            "858/858 [==============================] - 2s 3ms/step - loss: 0.5455 - accuracy: 0.7339\n",
            "Epoch 71/100\n",
            "858/858 [==============================] - 3s 4ms/step - loss: 0.5453 - accuracy: 0.7342\n",
            "Epoch 72/100\n",
            "858/858 [==============================] - 3s 4ms/step - loss: 0.5454 - accuracy: 0.7338\n",
            "Epoch 73/100\n",
            "858/858 [==============================] - 3s 4ms/step - loss: 0.5457 - accuracy: 0.7339\n",
            "Epoch 74/100\n",
            "858/858 [==============================] - 2s 3ms/step - loss: 0.5450 - accuracy: 0.7344\n",
            "Epoch 75/100\n",
            "858/858 [==============================] - 3s 3ms/step - loss: 0.5449 - accuracy: 0.7340\n",
            "Epoch 76/100\n",
            "858/858 [==============================] - 2s 3ms/step - loss: 0.5452 - accuracy: 0.7346\n",
            "Epoch 77/100\n",
            "858/858 [==============================] - 3s 3ms/step - loss: 0.5450 - accuracy: 0.7341\n",
            "Epoch 78/100\n",
            "858/858 [==============================] - 3s 4ms/step - loss: 0.5450 - accuracy: 0.7337\n",
            "Epoch 79/100\n",
            "858/858 [==============================] - 3s 4ms/step - loss: 0.5450 - accuracy: 0.7343\n",
            "Epoch 80/100\n",
            "858/858 [==============================] - 3s 3ms/step - loss: 0.5449 - accuracy: 0.7344\n",
            "Epoch 81/100\n",
            "858/858 [==============================] - 3s 3ms/step - loss: 0.5448 - accuracy: 0.7343\n",
            "Epoch 82/100\n",
            "858/858 [==============================] - 2s 3ms/step - loss: 0.5446 - accuracy: 0.7336\n",
            "Epoch 83/100\n",
            "858/858 [==============================] - 3s 3ms/step - loss: 0.5450 - accuracy: 0.7346\n",
            "Epoch 84/100\n",
            "858/858 [==============================] - 4s 4ms/step - loss: 0.5451 - accuracy: 0.7340\n",
            "Epoch 85/100\n",
            "858/858 [==============================] - 3s 4ms/step - loss: 0.5449 - accuracy: 0.7337\n",
            "Epoch 86/100\n",
            "858/858 [==============================] - 2s 3ms/step - loss: 0.5447 - accuracy: 0.7340\n",
            "Epoch 87/100\n",
            "858/858 [==============================] - 3s 3ms/step - loss: 0.5446 - accuracy: 0.7344\n",
            "Epoch 88/100\n",
            "858/858 [==============================] - 2s 3ms/step - loss: 0.5447 - accuracy: 0.7342\n",
            "Epoch 89/100\n",
            "858/858 [==============================] - 3s 3ms/step - loss: 0.5445 - accuracy: 0.7341\n",
            "Epoch 90/100\n",
            "858/858 [==============================] - 3s 4ms/step - loss: 0.5445 - accuracy: 0.7338\n",
            "Epoch 91/100\n",
            "858/858 [==============================] - 3s 4ms/step - loss: 0.5445 - accuracy: 0.7343\n",
            "Epoch 92/100\n",
            "858/858 [==============================] - 2s 3ms/step - loss: 0.5444 - accuracy: 0.7344\n",
            "Epoch 93/100\n",
            "858/858 [==============================] - 2s 3ms/step - loss: 0.5443 - accuracy: 0.7348\n",
            "Epoch 94/100\n",
            "858/858 [==============================] - 2s 3ms/step - loss: 0.5443 - accuracy: 0.7344\n",
            "Epoch 95/100\n",
            "858/858 [==============================] - 2s 3ms/step - loss: 0.5439 - accuracy: 0.7348\n",
            "Epoch 96/100\n",
            "858/858 [==============================] - 4s 4ms/step - loss: 0.5437 - accuracy: 0.7340\n",
            "Epoch 97/100\n",
            "858/858 [==============================] - 4s 4ms/step - loss: 0.5441 - accuracy: 0.7348\n",
            "Epoch 98/100\n",
            "858/858 [==============================] - 2s 3ms/step - loss: 0.5438 - accuracy: 0.7346\n",
            "Epoch 99/100\n",
            "858/858 [==============================] - 2s 3ms/step - loss: 0.5441 - accuracy: 0.7343\n",
            "Epoch 100/100\n",
            "858/858 [==============================] - 2s 3ms/step - loss: 0.5440 - accuracy: 0.7347\n"
          ]
        }
      ]
    },
    {
      "cell_type": "code",
      "source": [
        "# Evaluate the model using the test data\n",
        "model_loss, model_accuracy = nn.evaluate(X_test_scaled,y_test,verbose=2)\n",
        "print(f\"Loss: {model_loss}, Accuracy: {model_accuracy}\")"
      ],
      "metadata": {
        "colab": {
          "base_uri": "https://localhost:8080/"
        },
        "id": "_HNM4LASevBM",
        "outputId": "d1d25eb2-e919-44b7-c7a3-c5dbe030dc0d"
      },
      "execution_count": 79,
      "outputs": [
        {
          "output_type": "stream",
          "name": "stdout",
          "text": [
            "215/215 - 1s - loss: 0.5542 - accuracy: 0.7356 - 1s/epoch - 5ms/step\n",
            "Loss: 0.5542334914207458, Accuracy: 0.7355685234069824\n"
          ]
        }
      ]
    },
    {
      "cell_type": "code",
      "source": [
        "# Calculate the r2 score for the test data\n",
        "from sklearn.metrics import r2_score\n",
        "y_pred = nn.predict(X_test_scaled)\n",
        "r2_score(y_test, y_pred)\n"
      ],
      "metadata": {
        "colab": {
          "base_uri": "https://localhost:8080/"
        },
        "id": "Yo1MDE4YSUW3",
        "outputId": "c09bd593-b3f9-4b2a-e459-e90476520ddd"
      },
      "execution_count": 80,
      "outputs": [
        {
          "output_type": "stream",
          "name": "stdout",
          "text": [
            "215/215 [==============================] - 1s 3ms/step\n"
          ]
        },
        {
          "output_type": "execute_result",
          "data": {
            "text/plain": [
              "0.25755463826660596"
            ]
          },
          "metadata": {},
          "execution_count": 80
        }
      ]
    },
    {
      "cell_type": "markdown",
      "source": [
        "# Small increase in accuracy after removing some of the columns. I think there are still too many features. Will remove more."
      ],
      "metadata": {
        "id": "OnjI5TAYDnCZ"
      }
    },
    {
      "cell_type": "markdown",
      "source": [
        "#Optimization Attempt #2"
      ],
      "metadata": {
        "id": "E_NlFMD8EaT0"
      }
    },
    {
      "cell_type": "code",
      "source": [
        "# Removing more\n",
        "\n",
        "cleaned_application_df=cleaned_application_df.drop([\"USE_CASE_Heathcare\", \"ORGANIZATION_Corporation\", \"INCOME_AMT_10M-50M\", \"INCOME_AMT_100000-499999\", \"INCOME_AMT_1M-5M\",\"INCOME_AMT_50M+\", \"INCOME_AMT_0\", \"INCOME_AMT_25000-99999\",\n",
        "                                                    \"USE_CASE_CommunityServ\",\"CLASSIFICATION_C1000\"], axis=1)\n",
        "\n",
        "\n"
      ],
      "metadata": {
        "id": "5tsrgpwcR60C"
      },
      "execution_count": 81,
      "outputs": []
    },
    {
      "cell_type": "code",
      "source": [
        "# Split our preprocessed data into our features and target arrays for cleaned data\n",
        "y = cleaned_application_df[\"IS_SUCCESSFUL\"].values\n",
        "X = cleaned_application_df.drop([\"IS_SUCCESSFUL\"],1).values\n",
        "\n",
        "# Split the preprocessed data into a training and testing dataset. This time let's set the training set to 80%\n",
        "X_train, X_test, y_train, y_test = train_test_split(X, y, random_state=1, test_size=0.2, stratify=y)"
      ],
      "metadata": {
        "colab": {
          "base_uri": "https://localhost:8080/"
        },
        "id": "YrZVmkIxVVrX",
        "outputId": "58844a41-c45e-4c26-d5a5-ebfeac90b4cb"
      },
      "execution_count": 82,
      "outputs": [
        {
          "output_type": "stream",
          "name": "stderr",
          "text": [
            "<ipython-input-82-2e86cb3c7482>:3: FutureWarning: In a future version of pandas all arguments of DataFrame.drop except for the argument 'labels' will be keyword-only.\n",
            "  X = cleaned_application_df.drop([\"IS_SUCCESSFUL\"],1).values\n"
          ]
        }
      ]
    },
    {
      "cell_type": "code",
      "source": [
        "# Create a StandardScaler instances\n",
        "scaler = StandardScaler()\n",
        "\n",
        "# Fit the StandardScaler\n",
        "X_scaler = scaler.fit(X_train)\n",
        "\n",
        "# Scale the data\n",
        "X_train_scaled = X_scaler.transform(X_train)\n",
        "X_test_scaled = X_scaler.transform(X_test)"
      ],
      "metadata": {
        "id": "e8QCSY7FVexP"
      },
      "execution_count": 83,
      "outputs": []
    },
    {
      "cell_type": "code",
      "source": [
        "# Define the model - deep neural net, i.e., the number of input features and hidden nodes for each layer.\n",
        "\n",
        "\n",
        "nn = tf.keras.models.Sequential()\n",
        "\n",
        "# First hidden layer\n",
        "nn.add(tf.keras.layers.Dense(units=19, activation=\"relu\", input_dim=19))\n",
        "\n",
        "\n",
        "# Second hidden layer\n",
        "nn.add(tf.keras.layers.Dense(units=38, activation=\"relu\"))\n",
        "\n",
        "#Third hidden layer\n",
        "\n",
        "nn.add(tf.keras.layers.Dense(units=15, activation=\"relu\"))\n",
        "\n",
        "# Output layer\n",
        "nn.add(tf.keras.layers.Dense(units=1, activation=\"sigmoid\"))\n",
        "\n",
        "# Check the structure of the model\n",
        "nn.summary()"
      ],
      "metadata": {
        "colab": {
          "base_uri": "https://localhost:8080/"
        },
        "id": "fWC7IDPAV0Ag",
        "outputId": "bd2d11c9-75d3-4d1f-f22e-7b383211faa3"
      },
      "execution_count": 90,
      "outputs": [
        {
          "output_type": "stream",
          "name": "stdout",
          "text": [
            "Model: \"sequential_9\"\n",
            "_________________________________________________________________\n",
            " Layer (type)                Output Shape              Param #   \n",
            "=================================================================\n",
            " dense_34 (Dense)            (None, 19)                380       \n",
            "                                                                 \n",
            " dense_35 (Dense)            (None, 38)                760       \n",
            "                                                                 \n",
            " dense_36 (Dense)            (None, 15)                585       \n",
            "                                                                 \n",
            " dense_37 (Dense)            (None, 1)                 16        \n",
            "                                                                 \n",
            "=================================================================\n",
            "Total params: 1,741\n",
            "Trainable params: 1,741\n",
            "Non-trainable params: 0\n",
            "_________________________________________________________________\n"
          ]
        }
      ]
    },
    {
      "cell_type": "code",
      "source": [
        "# Compile the model\n",
        "nn.compile(loss=\"binary_crossentropy\", optimizer=\"adam\", metrics=[\"accuracy\"])"
      ],
      "metadata": {
        "id": "lHnMTD1rV4mR"
      },
      "execution_count": 91,
      "outputs": []
    },
    {
      "cell_type": "code",
      "source": [
        "# Train the model\n",
        "fit_model = nn.fit(X_train_scaled, y_train, epochs=100)"
      ],
      "metadata": {
        "colab": {
          "base_uri": "https://localhost:8080/"
        },
        "id": "teZhJn-4V9Mv",
        "outputId": "bb8aa548-6eb8-4818-a22c-891dff7b3c9b"
      },
      "execution_count": 92,
      "outputs": [
        {
          "output_type": "stream",
          "name": "stdout",
          "text": [
            "Epoch 1/100\n",
            "858/858 [==============================] - 3s 3ms/step - loss: 0.5867 - accuracy: 0.7074\n",
            "Epoch 2/100\n",
            "858/858 [==============================] - 3s 3ms/step - loss: 0.5709 - accuracy: 0.7199\n",
            "Epoch 3/100\n",
            "858/858 [==============================] - 4s 4ms/step - loss: 0.5688 - accuracy: 0.7213\n",
            "Epoch 4/100\n",
            "858/858 [==============================] - 3s 4ms/step - loss: 0.5677 - accuracy: 0.7201\n",
            "Epoch 5/100\n",
            "858/858 [==============================] - 2s 3ms/step - loss: 0.5675 - accuracy: 0.7209\n",
            "Epoch 6/100\n",
            "858/858 [==============================] - 3s 3ms/step - loss: 0.5664 - accuracy: 0.7213\n",
            "Epoch 7/100\n",
            "858/858 [==============================] - 3s 4ms/step - loss: 0.5661 - accuracy: 0.7221\n",
            "Epoch 8/100\n",
            "858/858 [==============================] - 5s 6ms/step - loss: 0.5660 - accuracy: 0.7223\n",
            "Epoch 9/100\n",
            "858/858 [==============================] - 3s 4ms/step - loss: 0.5655 - accuracy: 0.7230\n",
            "Epoch 10/100\n",
            "858/858 [==============================] - 3s 3ms/step - loss: 0.5652 - accuracy: 0.7227\n",
            "Epoch 11/100\n",
            "858/858 [==============================] - 2s 3ms/step - loss: 0.5652 - accuracy: 0.7232\n",
            "Epoch 12/100\n",
            "858/858 [==============================] - 4s 4ms/step - loss: 0.5650 - accuracy: 0.7223\n",
            "Epoch 13/100\n",
            "858/858 [==============================] - 4s 5ms/step - loss: 0.5644 - accuracy: 0.7241\n",
            "Epoch 14/100\n",
            "858/858 [==============================] - 6s 7ms/step - loss: 0.5642 - accuracy: 0.7240\n",
            "Epoch 15/100\n",
            "858/858 [==============================] - 4s 5ms/step - loss: 0.5640 - accuracy: 0.7236\n",
            "Epoch 16/100\n",
            "858/858 [==============================] - 3s 3ms/step - loss: 0.5641 - accuracy: 0.7236\n",
            "Epoch 17/100\n",
            "858/858 [==============================] - 4s 4ms/step - loss: 0.5637 - accuracy: 0.7233\n",
            "Epoch 18/100\n",
            "858/858 [==============================] - 3s 3ms/step - loss: 0.5632 - accuracy: 0.7239\n",
            "Epoch 19/100\n",
            "858/858 [==============================] - 2s 3ms/step - loss: 0.5631 - accuracy: 0.7248\n",
            "Epoch 20/100\n",
            "858/858 [==============================] - 4s 5ms/step - loss: 0.5626 - accuracy: 0.7245\n",
            "Epoch 21/100\n",
            "858/858 [==============================] - 4s 4ms/step - loss: 0.5625 - accuracy: 0.7241\n",
            "Epoch 22/100\n",
            "858/858 [==============================] - 5s 6ms/step - loss: 0.5625 - accuracy: 0.7250\n",
            "Epoch 23/100\n",
            "858/858 [==============================] - 3s 4ms/step - loss: 0.5621 - accuracy: 0.7255\n",
            "Epoch 24/100\n",
            "858/858 [==============================] - 2s 3ms/step - loss: 0.5624 - accuracy: 0.7248\n",
            "Epoch 25/100\n",
            "858/858 [==============================] - 2s 3ms/step - loss: 0.5619 - accuracy: 0.7247\n",
            "Epoch 26/100\n",
            "858/858 [==============================] - 2s 3ms/step - loss: 0.5620 - accuracy: 0.7251\n",
            "Epoch 27/100\n",
            "858/858 [==============================] - 5s 6ms/step - loss: 0.5615 - accuracy: 0.7260\n",
            "Epoch 28/100\n",
            "858/858 [==============================] - 4s 4ms/step - loss: 0.5612 - accuracy: 0.7264\n",
            "Epoch 29/100\n",
            "858/858 [==============================] - 2s 3ms/step - loss: 0.5616 - accuracy: 0.7257\n",
            "Epoch 30/100\n",
            "858/858 [==============================] - 4s 5ms/step - loss: 0.5614 - accuracy: 0.7263\n",
            "Epoch 31/100\n",
            "858/858 [==============================] - 8s 9ms/step - loss: 0.5610 - accuracy: 0.7251\n",
            "Epoch 32/100\n",
            "858/858 [==============================] - 5s 6ms/step - loss: 0.5614 - accuracy: 0.7260\n",
            "Epoch 33/100\n",
            "858/858 [==============================] - 3s 4ms/step - loss: 0.5610 - accuracy: 0.7254\n",
            "Epoch 34/100\n",
            "858/858 [==============================] - 4s 4ms/step - loss: 0.5610 - accuracy: 0.7264\n",
            "Epoch 35/100\n",
            "858/858 [==============================] - 4s 5ms/step - loss: 0.5609 - accuracy: 0.7259\n",
            "Epoch 36/100\n",
            "858/858 [==============================] - 3s 4ms/step - loss: 0.5609 - accuracy: 0.7260\n",
            "Epoch 37/100\n",
            "858/858 [==============================] - 3s 4ms/step - loss: 0.5611 - accuracy: 0.7254\n",
            "Epoch 38/100\n",
            "858/858 [==============================] - 3s 4ms/step - loss: 0.5606 - accuracy: 0.7258\n",
            "Epoch 39/100\n",
            "858/858 [==============================] - 3s 4ms/step - loss: 0.5606 - accuracy: 0.7263\n",
            "Epoch 40/100\n",
            "858/858 [==============================] - 5s 5ms/step - loss: 0.5605 - accuracy: 0.7257\n",
            "Epoch 41/100\n",
            "858/858 [==============================] - 3s 4ms/step - loss: 0.5603 - accuracy: 0.7257\n",
            "Epoch 42/100\n",
            "858/858 [==============================] - 3s 4ms/step - loss: 0.5605 - accuracy: 0.7263\n",
            "Epoch 43/100\n",
            "858/858 [==============================] - 3s 4ms/step - loss: 0.5602 - accuracy: 0.7264\n",
            "Epoch 44/100\n",
            "858/858 [==============================] - 4s 5ms/step - loss: 0.5604 - accuracy: 0.7265\n",
            "Epoch 45/100\n",
            "858/858 [==============================] - 7s 8ms/step - loss: 0.5600 - accuracy: 0.7267\n",
            "Epoch 46/100\n",
            "858/858 [==============================] - 5s 6ms/step - loss: 0.5600 - accuracy: 0.7262\n",
            "Epoch 47/100\n",
            "858/858 [==============================] - 2s 3ms/step - loss: 0.5601 - accuracy: 0.7267\n",
            "Epoch 48/100\n",
            "858/858 [==============================] - 3s 4ms/step - loss: 0.5600 - accuracy: 0.7268\n",
            "Epoch 49/100\n",
            "858/858 [==============================] - 4s 4ms/step - loss: 0.5597 - accuracy: 0.7266\n",
            "Epoch 50/100\n",
            "858/858 [==============================] - 3s 3ms/step - loss: 0.5598 - accuracy: 0.7267\n",
            "Epoch 51/100\n",
            "858/858 [==============================] - 3s 3ms/step - loss: 0.5597 - accuracy: 0.7267\n",
            "Epoch 52/100\n",
            "858/858 [==============================] - 2s 3ms/step - loss: 0.5592 - accuracy: 0.7268\n",
            "Epoch 53/100\n",
            "858/858 [==============================] - 2s 3ms/step - loss: 0.5597 - accuracy: 0.7260\n",
            "Epoch 54/100\n",
            "858/858 [==============================] - 3s 4ms/step - loss: 0.5598 - accuracy: 0.7266\n",
            "Epoch 55/100\n",
            "858/858 [==============================] - 5s 6ms/step - loss: 0.5594 - accuracy: 0.7266\n",
            "Epoch 56/100\n",
            "858/858 [==============================] - 2s 3ms/step - loss: 0.5595 - accuracy: 0.7266\n",
            "Epoch 57/100\n",
            "858/858 [==============================] - 2s 3ms/step - loss: 0.5593 - accuracy: 0.7265\n",
            "Epoch 58/100\n",
            "858/858 [==============================] - 2s 3ms/step - loss: 0.5594 - accuracy: 0.7264\n",
            "Epoch 59/100\n",
            "858/858 [==============================] - 3s 3ms/step - loss: 0.5589 - accuracy: 0.7263\n",
            "Epoch 60/100\n",
            "858/858 [==============================] - 4s 4ms/step - loss: 0.5589 - accuracy: 0.7266\n",
            "Epoch 61/100\n",
            "858/858 [==============================] - 3s 3ms/step - loss: 0.5594 - accuracy: 0.7267\n",
            "Epoch 62/100\n",
            "858/858 [==============================] - 2s 3ms/step - loss: 0.5596 - accuracy: 0.7267\n",
            "Epoch 63/100\n",
            "858/858 [==============================] - 2s 3ms/step - loss: 0.5591 - accuracy: 0.7278\n",
            "Epoch 64/100\n",
            "858/858 [==============================] - 3s 3ms/step - loss: 0.5590 - accuracy: 0.7257\n",
            "Epoch 65/100\n",
            "858/858 [==============================] - 3s 3ms/step - loss: 0.5591 - accuracy: 0.7272\n",
            "Epoch 66/100\n",
            "858/858 [==============================] - 4s 4ms/step - loss: 0.5588 - accuracy: 0.7283\n",
            "Epoch 67/100\n",
            "858/858 [==============================] - 3s 3ms/step - loss: 0.5590 - accuracy: 0.7276\n",
            "Epoch 68/100\n",
            "858/858 [==============================] - 3s 3ms/step - loss: 0.5586 - accuracy: 0.7266\n",
            "Epoch 69/100\n",
            "858/858 [==============================] - 2s 3ms/step - loss: 0.5587 - accuracy: 0.7267\n",
            "Epoch 70/100\n",
            "858/858 [==============================] - 2s 3ms/step - loss: 0.5590 - accuracy: 0.7274\n",
            "Epoch 71/100\n",
            "858/858 [==============================] - 4s 4ms/step - loss: 0.5588 - accuracy: 0.7272\n",
            "Epoch 72/100\n",
            "858/858 [==============================] - 3s 4ms/step - loss: 0.5586 - accuracy: 0.7275\n",
            "Epoch 73/100\n",
            "858/858 [==============================] - 2s 3ms/step - loss: 0.5586 - accuracy: 0.7273\n",
            "Epoch 74/100\n",
            "858/858 [==============================] - 2s 3ms/step - loss: 0.5586 - accuracy: 0.7274\n",
            "Epoch 75/100\n",
            "858/858 [==============================] - 2s 3ms/step - loss: 0.5586 - accuracy: 0.7270\n",
            "Epoch 76/100\n",
            "858/858 [==============================] - 3s 3ms/step - loss: 0.5588 - accuracy: 0.7270\n",
            "Epoch 77/100\n",
            "858/858 [==============================] - 4s 4ms/step - loss: 0.5584 - accuracy: 0.7269\n",
            "Epoch 78/100\n",
            "858/858 [==============================] - 4s 4ms/step - loss: 0.5586 - accuracy: 0.7272\n",
            "Epoch 79/100\n",
            "858/858 [==============================] - 2s 3ms/step - loss: 0.5581 - accuracy: 0.7278\n",
            "Epoch 80/100\n",
            "858/858 [==============================] - 2s 3ms/step - loss: 0.5583 - accuracy: 0.7266\n",
            "Epoch 81/100\n",
            "858/858 [==============================] - 2s 3ms/step - loss: 0.5580 - accuracy: 0.7277\n",
            "Epoch 82/100\n",
            "858/858 [==============================] - 3s 3ms/step - loss: 0.5582 - accuracy: 0.7274\n",
            "Epoch 83/100\n",
            "858/858 [==============================] - 4s 4ms/step - loss: 0.5581 - accuracy: 0.7271\n",
            "Epoch 84/100\n",
            "858/858 [==============================] - 3s 3ms/step - loss: 0.5582 - accuracy: 0.7281\n",
            "Epoch 85/100\n",
            "858/858 [==============================] - 2s 3ms/step - loss: 0.5582 - accuracy: 0.7275\n",
            "Epoch 86/100\n",
            "858/858 [==============================] - 2s 3ms/step - loss: 0.5580 - accuracy: 0.7282\n",
            "Epoch 87/100\n",
            "858/858 [==============================] - 2s 3ms/step - loss: 0.5582 - accuracy: 0.7274\n",
            "Epoch 88/100\n",
            "858/858 [==============================] - 3s 3ms/step - loss: 0.5578 - accuracy: 0.7278\n",
            "Epoch 89/100\n",
            "858/858 [==============================] - 4s 4ms/step - loss: 0.5579 - accuracy: 0.7277\n",
            "Epoch 90/100\n",
            "858/858 [==============================] - 3s 3ms/step - loss: 0.5580 - accuracy: 0.7282\n",
            "Epoch 91/100\n",
            "858/858 [==============================] - 2s 3ms/step - loss: 0.5578 - accuracy: 0.7266\n",
            "Epoch 92/100\n",
            "858/858 [==============================] - 2s 3ms/step - loss: 0.5578 - accuracy: 0.7275\n",
            "Epoch 93/100\n",
            "858/858 [==============================] - 2s 3ms/step - loss: 0.5580 - accuracy: 0.7280\n",
            "Epoch 94/100\n",
            "858/858 [==============================] - 3s 4ms/step - loss: 0.5578 - accuracy: 0.7272\n",
            "Epoch 95/100\n",
            "858/858 [==============================] - 4s 4ms/step - loss: 0.5576 - accuracy: 0.7271\n",
            "Epoch 96/100\n",
            "858/858 [==============================] - 3s 3ms/step - loss: 0.5576 - accuracy: 0.7274\n",
            "Epoch 97/100\n",
            "858/858 [==============================] - 3s 3ms/step - loss: 0.5576 - accuracy: 0.7278\n",
            "Epoch 98/100\n",
            "858/858 [==============================] - 2s 3ms/step - loss: 0.5576 - accuracy: 0.7279\n",
            "Epoch 99/100\n",
            "858/858 [==============================] - 2s 3ms/step - loss: 0.5577 - accuracy: 0.7276\n",
            "Epoch 100/100\n",
            "858/858 [==============================] - 3s 4ms/step - loss: 0.5573 - accuracy: 0.7278\n"
          ]
        }
      ]
    },
    {
      "cell_type": "code",
      "source": [
        "# Evaluate the model using the test data\n",
        "model_loss, model_accuracy = nn.evaluate(X_test_scaled,y_test,verbose=2)\n",
        "print(f\"Loss: {model_loss}, Accuracy: {model_accuracy}\")"
      ],
      "metadata": {
        "colab": {
          "base_uri": "https://localhost:8080/"
        },
        "id": "sZpCvYJtWL6C",
        "outputId": "7fb4cb25-34a8-47d9-d07c-139e22e7079a"
      },
      "execution_count": 93,
      "outputs": [
        {
          "output_type": "stream",
          "name": "stdout",
          "text": [
            "215/215 - 1s - loss: 0.5578 - accuracy: 0.7341 - 890ms/epoch - 4ms/step\n",
            "Loss: 0.5577759146690369, Accuracy: 0.7341107726097107\n"
          ]
        }
      ]
    },
    {
      "cell_type": "code",
      "source": [
        "# Calculate the r2 score for the test data\n",
        "from sklearn.metrics import r2_score\n",
        "y_pred = nn.predict(X_test_scaled)\n",
        "r2_score(y_test, y_pred)"
      ],
      "metadata": {
        "colab": {
          "base_uri": "https://localhost:8080/"
        },
        "id": "AMoAqzL2daPJ",
        "outputId": "981df62b-13f9-4a03-bae3-80cb964156cd"
      },
      "execution_count": 94,
      "outputs": [
        {
          "output_type": "stream",
          "name": "stdout",
          "text": [
            "215/215 [==============================] - 1s 2ms/step\n"
          ]
        },
        {
          "output_type": "execute_result",
          "data": {
            "text/plain": [
              "0.2506380507442546"
            ]
          },
          "metadata": {},
          "execution_count": 94
        }
      ]
    },
    {
      "cell_type": "markdown",
      "source": [
        "# Accuracy hasn't changed significantly. Will try using keras tuner to see if optimizing hyperparameters will get us a better level of accuracy"
      ],
      "metadata": {
        "id": "AeHWL_PBEm-D"
      }
    },
    {
      "cell_type": "code",
      "source": [
        "#Using keras Tuner to optimize parameters\n",
        " # Create a method that creates a new Sequential model with hyperparameter options\n",
        "def create_model(hp):\n",
        "    nn_model = tf.keras.models.Sequential()\n",
        "\n",
        "    # Allow kerastuner to decide which activation function to use in hidden layers\n",
        "    activation = hp.Choice('activation',['relu','tanh','sigmoid'])\n",
        "    \n",
        "     # Set input shape to\n",
        "    nn_model.add(tf.keras.layers.Input(shape=(19,)))\n",
        "\n",
        "    # Allow kerastuner to decide number of neurons in first layer\n",
        "    nn_model.add(tf.keras.layers.Dense(units=hp.Int('first_units',\n",
        "        min_value=1,\n",
        "        max_value=50,\n",
        "        step=5), activation=activation, input_dim=2))\n",
        "\n",
        "    # Allow kerastuner to decide number of hidden layers and neurons in hidden layers\n",
        "    for i in range(hp.Int('num_layers', 1, 6)):\n",
        "        nn_model.add(tf.keras.layers.Dense(units=hp.Int('units_' + str(i),\n",
        "            min_value=1,\n",
        "            max_value=60,\n",
        "            step=5),\n",
        "            activation=activation))\n",
        "    \n",
        "    nn_model.add(tf.keras.layers.Dense(units=1, activation=\"sigmoid\"))\n",
        "\n",
        "    # Compile the model\n",
        "    nn_model.compile(loss=\"binary_crossentropy\", optimizer='adam', metrics=[\"accuracy\"])\n",
        "    \n",
        "    return nn_model"
      ],
      "metadata": {
        "id": "sXjZCC5U7BS9"
      },
      "execution_count": 95,
      "outputs": []
    },
    {
      "cell_type": "code",
      "source": [
        " # Import the kerastuner library\n",
        "\n",
        "import keras_tuner as kt\n",
        "\n",
        "tuner = kt.Hyperband(\n",
        "    create_model,\n",
        "    objective=\"val_accuracy\",\n",
        "    max_epochs=50,\n",
        "    hyperband_iterations=2)"
      ],
      "metadata": {
        "id": "2fS0G59L7gz3"
      },
      "execution_count": 97,
      "outputs": []
    },
    {
      "cell_type": "code",
      "source": [
        "tuner.search(X_train_scaled,y_train,epochs=50,validation_data=(X_test_scaled,y_test))"
      ],
      "metadata": {
        "id": "FZgoMqGQ7kRG",
        "colab": {
          "base_uri": "https://localhost:8080/"
        },
        "outputId": "55cba9b9-6f50-4096-f0d1-e3cf244680e4"
      },
      "execution_count": null,
      "outputs": [
        {
          "output_type": "stream",
          "name": "stdout",
          "text": [
            "Trial 141 Complete [00h 01m 43s]\n",
            "val_accuracy: 0.7357142567634583\n",
            "\n",
            "Best val_accuracy So Far: 0.7362973690032959\n",
            "Total elapsed time: 01h 18m 30s\n",
            "\n",
            "Search: Running Trial #142\n",
            "\n",
            "Value             |Best Value So Far |Hyperparameter\n",
            "relu              |relu              |activation\n",
            "31                |26                |first_units\n",
            "1                 |4                 |num_layers\n",
            "21                |36                |units_0\n",
            "6                 |11                |units_1\n",
            "6                 |56                |units_2\n",
            "11                |6                 |units_3\n",
            "16                |51                |units_4\n",
            "36                |16                |units_5\n",
            "50                |50                |tuner/epochs\n",
            "17                |17                |tuner/initial_epoch\n",
            "3                 |2                 |tuner/bracket\n",
            "3                 |2                 |tuner/round\n",
            "0139              |0069              |tuner/trial_id\n",
            "\n",
            "Epoch 18/50\n",
            "858/858 [==============================] - 3s 3ms/step - loss: 0.5644 - accuracy: 0.7239 - val_loss: 0.5571 - val_accuracy: 0.7340\n",
            "Epoch 19/50\n",
            "858/858 [==============================] - 2s 3ms/step - loss: 0.5645 - accuracy: 0.7236 - val_loss: 0.5576 - val_accuracy: 0.7329\n",
            "Epoch 20/50\n",
            "858/858 [==============================] - 2s 3ms/step - loss: 0.5638 - accuracy: 0.7230 - val_loss: 0.5569 - val_accuracy: 0.7340\n",
            "Epoch 21/50\n",
            "858/858 [==============================] - 3s 4ms/step - loss: 0.5638 - accuracy: 0.7229 - val_loss: 0.5597 - val_accuracy: 0.7345\n",
            "Epoch 22/50\n",
            "858/858 [==============================] - 3s 4ms/step - loss: 0.5636 - accuracy: 0.7247 - val_loss: 0.5574 - val_accuracy: 0.7340\n",
            "Epoch 23/50\n",
            "858/858 [==============================] - 2s 3ms/step - loss: 0.5634 - accuracy: 0.7244 - val_loss: 0.5574 - val_accuracy: 0.7348\n",
            "Epoch 24/50\n",
            "858/858 [==============================] - 3s 3ms/step - loss: 0.5627 - accuracy: 0.7249 - val_loss: 0.5555 - val_accuracy: 0.7343\n",
            "Epoch 25/50\n",
            "858/858 [==============================] - 2s 3ms/step - loss: 0.5631 - accuracy: 0.7241 - val_loss: 0.5563 - val_accuracy: 0.7334\n",
            "Epoch 26/50\n",
            "858/858 [==============================] - 3s 3ms/step - loss: 0.5627 - accuracy: 0.7244 - val_loss: 0.5552 - val_accuracy: 0.7344\n",
            "Epoch 27/50\n",
            "858/858 [==============================] - 4s 4ms/step - loss: 0.5626 - accuracy: 0.7247 - val_loss: 0.5557 - val_accuracy: 0.7329\n",
            "Epoch 28/50\n",
            "858/858 [==============================] - 2s 3ms/step - loss: 0.5622 - accuracy: 0.7247 - val_loss: 0.5565 - val_accuracy: 0.7332\n",
            "Epoch 29/50\n",
            "858/858 [==============================] - 2s 3ms/step - loss: 0.5626 - accuracy: 0.7254 - val_loss: 0.5550 - val_accuracy: 0.7340\n",
            "Epoch 30/50\n",
            "858/858 [==============================] - 2s 3ms/step - loss: 0.5622 - accuracy: 0.7242 - val_loss: 0.5546 - val_accuracy: 0.7335\n",
            "Epoch 31/50\n",
            "858/858 [==============================] - 2s 3ms/step - loss: 0.5624 - accuracy: 0.7243 - val_loss: 0.5551 - val_accuracy: 0.7332\n",
            "Epoch 32/50\n",
            "858/858 [==============================] - 3s 4ms/step - loss: 0.5620 - accuracy: 0.7254 - val_loss: 0.5555 - val_accuracy: 0.7334\n",
            "Epoch 33/50\n",
            "858/858 [==============================] - 4s 4ms/step - loss: 0.5621 - accuracy: 0.7254 - val_loss: 0.5554 - val_accuracy: 0.7343\n",
            "Epoch 34/50\n",
            "858/858 [==============================] - 2s 3ms/step - loss: 0.5622 - accuracy: 0.7261 - val_loss: 0.5558 - val_accuracy: 0.7343\n",
            "Epoch 35/50\n",
            "858/858 [==============================] - 3s 3ms/step - loss: 0.5618 - accuracy: 0.7258 - val_loss: 0.5559 - val_accuracy: 0.7353\n",
            "Epoch 36/50\n",
            "858/858 [==============================] - 3s 3ms/step - loss: 0.5615 - accuracy: 0.7256 - val_loss: 0.5552 - val_accuracy: 0.7348\n",
            "Epoch 37/50\n",
            "858/858 [==============================] - 3s 4ms/step - loss: 0.5614 - accuracy: 0.7259 - val_loss: 0.5559 - val_accuracy: 0.7347\n",
            "Epoch 38/50\n",
            "858/858 [==============================] - 3s 4ms/step - loss: 0.5618 - accuracy: 0.7254 - val_loss: 0.5548 - val_accuracy: 0.7338\n",
            "Epoch 39/50\n",
            "334/858 [==========>...................] - ETA: 1s - loss: 0.5651 - accuracy: 0.7232"
          ]
        }
      ]
    },
    {
      "cell_type": "code",
      "source": [
        "top_hyper = tuner.get_best_hyperparameters(3)\n",
        "for param in top_hyper:\n",
        "    print(param.values)"
      ],
      "metadata": {
        "id": "o85j1dsw7_Um"
      },
      "execution_count": null,
      "outputs": []
    },
    {
      "cell_type": "code",
      "source": [
        "top_model = tuner.get_best_models(3)\n",
        "for model in top_model:\n",
        "    model_loss, model_accuracy = model.evaluate(X_test_scaled,y_test,verbose=2)\n",
        "    print(f\"Loss: {model_loss}, Accuracy: {model_accuracy}\")"
      ],
      "metadata": {
        "id": "k644zuSsKsGj"
      },
      "execution_count": null,
      "outputs": []
    },
    {
      "cell_type": "code",
      "source": [],
      "metadata": {
        "id": "VMWDb1rNVVnx"
      },
      "execution_count": null,
      "outputs": []
    }
  ],
  "metadata": {
    "kernelspec": {
      "display_name": "Python 3",
      "language": "python",
      "name": "python3"
    },
    "language_info": {
      "codemirror_mode": {
        "name": "ipython",
        "version": 3
      },
      "file_extension": ".py",
      "mimetype": "text/x-python",
      "name": "python",
      "nbconvert_exporter": "python",
      "pygments_lexer": "ipython3",
      "version": "3.-1.-1"
    },
    "vscode": {
      "interpreter": {
        "hash": "31f2aee4e71d21fbe5cf8b01ff0e069b9275f58929596ceb00d14d90e3e16cd6"
      }
    },
    "colab": {
      "provenance": []
    },
    "accelerator": "TPU",
    "gpuClass": "standard"
  },
  "nbformat": 4,
  "nbformat_minor": 0
}